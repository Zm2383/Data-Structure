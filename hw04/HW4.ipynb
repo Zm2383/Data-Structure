{
 "cells": [
  {
   "cell_type": "markdown",
   "id": "c7349de1",
   "metadata": {},
   "source": [
    "# 1. Recipe class"
   ]
  },
  {
   "cell_type": "markdown",
   "id": "04659d2b",
   "metadata": {},
   "source": [
    "a) Create Recipe class"
   ]
  },
  {
   "cell_type": "code",
   "execution_count": 85,
   "id": "49a5e63f",
   "metadata": {},
   "outputs": [],
   "source": [
    "class Recipe():\n",
    "    def __init__(self,name=\"\",ingredients=\"\",meal=\"\",time=\"\"):\n",
    "        self.n = name\n",
    "        self.ingre = ingredients\n",
    "        self.m = meal\n",
    "        self.t = time"
   ]
  },
  {
   "cell_type": "markdown",
   "id": "84800045",
   "metadata": {},
   "source": [
    "b) Add method and recipes"
   ]
  },
  {
   "cell_type": "code",
   "execution_count": 86,
   "id": "9eb6d47e",
   "metadata": {},
   "outputs": [],
   "source": [
    "class Recipe():\n",
    "    def __init__(self,name=\"\",ingredients={},meal=\"\",time=\"\"):\n",
    "        self.n = name\n",
    "        self.ingre = ingredients\n",
    "        self.m = meal\n",
    "        self.t = time\n",
    "    def __str__(self):\n",
    "        return \"The recipe is \" + self.n + \", and it will takes \" + self.t + \",the meal is served as \" + self.m + \".\""
   ]
  },
  {
   "cell_type": "code",
   "execution_count": 87,
   "id": "30a9f4df",
   "metadata": {},
   "outputs": [
    {
     "name": "stdout",
     "output_type": "stream",
     "text": [
      "The recipe is Cookies, and it will takes 30 min,the meal is served as dessert.\n",
      "The recipe is Cake, and it will takes 25 min,the meal is served as dessert.\n",
      "The recipe is Strawberry Cake, and it will takes 1 hrs,the meal is served as dessert.\n",
      "The recipe is Chicken, and it will takes 25 min,the meal is served as dinner.\n",
      "The recipe is Pepe, and it will takes 12 min,the meal is served as dinner.\n"
     ]
    }
   ],
   "source": [
    "r1 = Recipe(\"Cookies\",{\"butter\": 25, \"sugar\":18, \"egg\": 2},\"dessert\",\"30 min\")\n",
    "r2 = Recipe(\"Cake\",{\"chocolate\": 30, \"eggs\": 20, \"flour\": 40}, \"dessert\", \"25 min\")\n",
    "r3 = Recipe(\"Strawberry Cake\",{\"cream\": 20, \"crackers\": 30, \"strawberry\": 15},\"dessert\", \"1 hrs\")\n",
    "r4 = Recipe(\"Chicken\", {\"chicken\": 50, \"soy sauce\":15, \"sugar\": 5}, \"dinner\", \"25 min\")\n",
    "r5 = Recipe(\"Pepe\",{\"pasta\": 20, \"butter\": 5, \"egg\": 5},\"dinner\", \"12 min\")\n",
    "print(r1)\n",
    "print(r2)\n",
    "print(r3)\n",
    "print(r4)\n",
    "print(r5)"
   ]
  },
  {
   "cell_type": "markdown",
   "id": "08f16756",
   "metadata": {},
   "source": [
    "c) Total weight"
   ]
  },
  {
   "cell_type": "code",
   "execution_count": 88,
   "id": "9bfe35b7",
   "metadata": {},
   "outputs": [],
   "source": [
    "class Recipe():\n",
    "    def __init__(self,name=\"\",ingredients={},meal=\"\",time=\"\"):\n",
    "        self.n = name\n",
    "        self.ingre = ingredients\n",
    "        self.m = meal\n",
    "        self.t = time\n",
    "    def __str__(self):\n",
    "        return \"The recipe is \" + self.n + \", and it will takes \" + self.t + \",the meal is served as \" + self.m + \".\"\n",
    "    def total_weight(self):\n",
    "        return sum(self.ingre.values())\n",
    "    \n",
    "    \n",
    "r1 = Recipe(\"Cookies\",{\"butter\": 25, \"sugar\":18, \"egg\": 2},\"dessert\",\"30 min\")\n",
    "r2 = Recipe(\"Cake\",{\"chocolate\": 30, \"eggs\": 20, \"flour\": 40}, \"dessert\", \"25 min\")\n",
    "r3 = Recipe(\"Strawberry Cake\",{\"cream\": 20, \"crackers\": 30, \"strawberry\": 15},\"dessert\", \"1 hrs\")\n",
    "r4 = Recipe(\"Chicken\", {\"chicken\": 50, \"soy sauce\":15, \"sugar\": 5}, \"dinner\", \"25 min\")\n",
    "r5 = Recipe(\"Pepe\",{\"pasta\": 20, \"butter\": 5, \"egg\": 5},\"dinner\", \"12 min\")"
   ]
  },
  {
   "cell_type": "code",
   "execution_count": 89,
   "id": "2e1d98d4",
   "metadata": {},
   "outputs": [
    {
     "name": "stdout",
     "output_type": "stream",
     "text": [
      "45\n"
     ]
    }
   ],
   "source": [
    "w1=total_weight(r1)\n",
    "print(w1)"
   ]
  },
  {
   "cell_type": "markdown",
   "id": "eb6d155c",
   "metadata": {},
   "source": [
    "2. Organizing recipes in a Cookbook"
   ]
  },
  {
   "cell_type": "markdown",
   "id": "e3ed161b",
   "metadata": {},
   "source": [
    "a) Create Cookbook class"
   ]
  },
  {
   "cell_type": "code",
   "execution_count": 143,
   "id": "60e8828a",
   "metadata": {},
   "outputs": [],
   "source": [
    "class Cookbook():\n",
    "    def __init__(self):\n",
    "        self.list = []\n",
    "    def add(self, recipe):\n",
    "        self.list.append(recipe)"
   ]
  },
  {
   "cell_type": "markdown",
   "id": "bdff8df6",
   "metadata": {},
   "source": [
    "b) Meal type method"
   ]
  },
  {
   "cell_type": "code",
   "execution_count": 144,
   "id": "d7b7b3bc",
   "metadata": {},
   "outputs": [],
   "source": [
    "class Cookbook():\n",
    "    def __init__(self):\n",
    "        self.list = []\n",
    "        \n",
    "    def add(self, recipe):\n",
    "        self.list.append(recipe)\n",
    "        \n",
    "    def get_meal_type(self,meal_type):\n",
    "        self.mealtypeList = []\n",
    "        for recipe in self.list:\n",
    "            if recipe.m == meal_type:\n",
    "                self.mealtypeList.append(recipe.n)\n",
    "        return self.mealtypeList\n",
    "            \n",
    "  "
   ]
  },
  {
   "cell_type": "code",
   "execution_count": null,
   "id": "25056f8b",
   "metadata": {},
   "outputs": [],
   "source": []
  },
  {
   "cell_type": "markdown",
   "id": "0e68f0cc",
   "metadata": {},
   "source": [
    "c) Make a cookbook"
   ]
  },
  {
   "cell_type": "code",
   "execution_count": 145,
   "id": "f50b8fb9",
   "metadata": {},
   "outputs": [],
   "source": [
    "r1 = Recipe(\"Cookies\",{\"butter\": 25, \"sugar\":18, \"egg\": 2},\"dessert\",\"30 min\")\n",
    "r2 = Recipe(\"Cake\",{\"chocolate\": 30, \"eggs\": 20, \"flour\": 40}, \"dessert\", \"25 min\")\n",
    "r3 = Recipe(\"Strawberry Cake\",{\"cream\": 20, \"crackers\": 30, \"strawberry\": 15},\"dessert\", \"1 hrs\")\n",
    "r4 = Recipe(\"Chicken\", {\"chicken\": 50, \"soy sauce\":15, \"sugar\": 5}, \"dinner\", \"25 min\")\n",
    "r5 = Recipe(\"Pepe\",{\"pasta\": 20, \"butter\": 5, \"egg\": 5},\"dinner\", \"12 min\")\n",
    "\n",
    "cookbook1 = Cookbook()\n",
    "recipes = [r1,r2,r3,r4,r5]\n",
    "for r in recipes:\n",
    "    cookbook1.add(r)\n"
   ]
  },
  {
   "cell_type": "code",
   "execution_count": 146,
   "id": "9db31782",
   "metadata": {},
   "outputs": [
    {
     "name": "stdout",
     "output_type": "stream",
     "text": [
      "Cookies\n",
      "Cake\n",
      "Strawberry Cake\n"
     ]
    }
   ],
   "source": [
    "for n in cookbook1.get_meal_type('dessert'):\n",
    "    print(n)"
   ]
  },
  {
   "cell_type": "markdown",
   "id": "3e82afbb",
   "metadata": {},
   "source": [
    "d) Ingredient at home"
   ]
  },
  {
   "cell_type": "code",
   "execution_count": 153,
   "id": "06033fb5",
   "metadata": {},
   "outputs": [],
   "source": [
    "class Recipe():\n",
    "    def __init__(self,name=\"\",ingredients={},meal=\"\",time=\"\"):\n",
    "        self.n = name\n",
    "        self.ingre = ingredients\n",
    "        self.m = meal\n",
    "        self.t = time\n",
    "    def __str__(self):\n",
    "        return \"The recipe is \" + self.n + \", and it will takes \" + self.t + \",the meal is served as \" + self.m + \".\"\n",
    "    def total_weight(self):\n",
    "        return sum(self.ingre.values())\n",
    "    \n",
    "    \n",
    "class Cookbook():\n",
    "    def __init__(self):\n",
    "        self.list = []\n",
    "        \n",
    "    def add(self, recipe):\n",
    "        self.list.append(recipe)\n",
    "        \n",
    "    def get_meal_type(self,meal_type):\n",
    "        self.mealtypeList = []\n",
    "        for recipe in self.list:\n",
    "            if recipe.m == meal_type:\n",
    "                self.mealtypeList.append(recipe.n)\n",
    "        return self.mealtypeList\n",
    "    \n",
    "    def ingre_available(self,available_ingredients,match_all):\n",
    "        results=[]\n",
    "        \n",
    "        \n",
    "        if match_all == True:\n",
    "            for recipe in self.list:\n",
    "                available_ingredients = set(available_ingredients)\n",
    "                sub_list = set(list(recipe.ingre.keys()))\n",
    "                if sub_list.issubset(available_ingredients):\n",
    "                    results.append(recipe.n)\n",
    "        if match_all == False:\n",
    "            for recipe in self.list:\n",
    "                for i in list(recipe.ingre.keys()):\n",
    "                    if i in available_ingredients:\n",
    "                        results.append(recipe.n)\n",
    "            results = set(results)\n",
    "        return results\n",
    "    \n",
    "            \n",
    "        "
   ]
  },
  {
   "cell_type": "code",
   "execution_count": 154,
   "id": "66fdb23e",
   "metadata": {},
   "outputs": [
    {
     "name": "stdout",
     "output_type": "stream",
     "text": [
      "[]\n",
      "['Cookies', 'Cookies', 'Cookies', 'Cookies', 'Cookies', 'Cookies']\n",
      "{'Pepe', 'Cookies'}\n"
     ]
    }
   ],
   "source": [
    "r1 = Recipe(\"Cookies\",{\"butter\": 25, \"sugar\":18, \"egg\": 2},\"dessert\",\"30 min\")\n",
    "r2 = Recipe(\"Cake\",{\"chocolate\": 30, \"eggs\": 20, \"flour\": 40}, \"dessert\", \"25 min\")\n",
    "r3 = Recipe(\"Strawberry Cake\",{\"cream\": 20, \"crackers\": 30, \"strawberry\": 15},\"dessert\", \"1 hrs\")\n",
    "r4 = Recipe(\"Chicken\", {\"chicken\": 50, \"soy sauce\":15, \"sugar\": 5}, \"dinner\", \"25 min\")\n",
    "r5 = Recipe(\"Pepe\",{\"pasta\": 20, \"butter\": 5, \"egg\": 5},\"dinner\", \"12 min\")\n",
    "cookbook1.add(r1)\n",
    "cookbook1.add(r2)\n",
    "cookbook1.add(r3)\n",
    "cookbook1.add(r4)\n",
    "cookbook1.add(r5)\n",
    "print(cookbook1.ingre_available(['egg',],True))\n",
    "print(cookbook1.ingre_available(['egg','sugar','butter'],True))\n",
    "print(cookbook1.ingre_available(['butter'],False))"
   ]
  },
  {
   "cell_type": "code",
   "execution_count": null,
   "id": "11d95d9e",
   "metadata": {},
   "outputs": [],
   "source": []
  },
  {
   "cell_type": "code",
   "execution_count": null,
   "id": "783c127e",
   "metadata": {},
   "outputs": [],
   "source": []
  },
  {
   "cell_type": "code",
   "execution_count": null,
   "id": "1b48fc79",
   "metadata": {},
   "outputs": [],
   "source": []
  },
  {
   "cell_type": "code",
   "execution_count": null,
   "id": "1e0eb8b6",
   "metadata": {},
   "outputs": [],
   "source": []
  }
 ],
 "metadata": {
  "kernelspec": {
   "display_name": "Python 3",
   "language": "python",
   "name": "python3"
  },
  "language_info": {
   "codemirror_mode": {
    "name": "ipython",
    "version": 3
   },
   "file_extension": ".py",
   "mimetype": "text/x-python",
   "name": "python",
   "nbconvert_exporter": "python",
   "pygments_lexer": "ipython3",
   "version": "3.8.8"
  }
 },
 "nbformat": 4,
 "nbformat_minor": 5
}
