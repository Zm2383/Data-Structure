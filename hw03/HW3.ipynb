{
 "cells": [
  {
   "cell_type": "markdown",
   "id": "bfdfa7a1",
   "metadata": {},
   "source": [
    "# 1. Cost of the event\n",
    "## a) Provide a python function called cost_of_event that takes as parameters:"
   ]
  },
  {
   "cell_type": "code",
   "execution_count": 8,
   "id": "52c1b2d3",
   "metadata": {},
   "outputs": [],
   "source": [
    "def cost_of_event(num_of_people, type = 'private', cost = 50.0):\n",
    "    if type == 'wedding':\n",
    "        return num_of_people*cost*1.5\n",
    "    if type == 'corporate' or type == 'private':\n",
    "        return num_of_people*cost\n",
    "    else:\n",
    "        return"
   ]
  },
  {
   "cell_type": "code",
   "execution_count": 9,
   "id": "25f659e9",
   "metadata": {},
   "outputs": [
    {
     "data": {
      "text/plain": [
       "101250.0"
      ]
     },
     "execution_count": 9,
     "metadata": {},
     "output_type": "execute_result"
    }
   ],
   "source": [
    "cost_of_event(150,'wedding',450)"
   ]
  },
  {
   "cell_type": "markdown",
   "id": "780bb244",
   "metadata": {},
   "source": [
    "## b) We now want to provide information on the applicable sales tax as well."
   ]
  },
  {
   "cell_type": "code",
   "execution_count": 12,
   "id": "5e4ac11a",
   "metadata": {},
   "outputs": [],
   "source": [
    "def sales_tax (net_cost,type = 'private', tax_rate=0.1):\n",
    "    if type == 'wedding' or type == 'private': \n",
    "        if net_cost <= 1000:\n",
    "            tax_rate = 0\n",
    "        return (net_cost - 1000)*tax_rate\n",
    "    if  type == 'corporate':\n",
    "        return net_cost*tax_rate\n",
    "    else:\n",
    "        return"
   ]
  },
  {
   "cell_type": "code",
   "execution_count": 13,
   "id": "ec112c6b",
   "metadata": {},
   "outputs": [
    {
     "name": "stdout",
     "output_type": "stream",
     "text": [
      "400.0\n"
     ]
    }
   ],
   "source": [
    "print(sales_tax(5000,'private',0.1))"
   ]
  },
  {
   "cell_type": "code",
   "execution_count": 14,
   "id": "d8438df7",
   "metadata": {},
   "outputs": [
    {
     "name": "stdout",
     "output_type": "stream",
     "text": [
      "500.0\n"
     ]
    }
   ],
   "source": [
    "print(sales_tax(5000,'corporate',0.1))"
   ]
  },
  {
   "cell_type": "markdown",
   "id": "b82f064c",
   "metadata": {},
   "source": [
    "## c) Now combine the functions cost_of_event and sales_tax into a third function called event_calculator."
   ]
  },
  {
   "cell_type": "code",
   "execution_count": 15,
   "id": "ebeb7caa",
   "metadata": {},
   "outputs": [],
   "source": [
    "def event_calculator(num_of_people, type = 'private', cost = 50.0, tax_rate=0.1):\n",
    "    def cost_of_event(num_of_people, type = 'private', cost = 50.0):\n",
    "        if type == 'wedding':\n",
    "            return num_of_people*cost*1.5\n",
    "        if type == 'corporate' or type == 'private':\n",
    "            return num_of_people*cost\n",
    "        else:\n",
    "            return \n",
    "    def sales_tax (net_cost,type = 'private', tax_rate=0.1):\n",
    "        if type == 'wedding' or type == 'private': \n",
    "            if net_cost <= 1000:\n",
    "                tax_rate = 0\n",
    "            return (net_cost - 1000)*tax_rate\n",
    "        if  type == 'corporate':\n",
    "            return net_cost*tax_rate\n",
    "        else:\n",
    "            return\n",
    "    print(f\"Total number of guest: {num_of_people}\")\n",
    "    print(f\"Type of event: {type}\")\n",
    "    print(f\"Cost per person: {cost}\")\n",
    "    print(\"-\"*30)\n",
    "    print(f\"Cost of event: {cost_of_event(num_of_people,type,cost)}\")\n",
    "    net_cost = cost_of_event(num_of_people,type,cost)\n",
    "    print(f\"Sales tax: {sales_tax(net_cost,type, tax_rate)}\")\n",
    "    tax = sales_tax(net_cost,type, tax_rate)\n",
    "    print(\"-\"*30)\n",
    "    total_cost = tax+net_cost\n",
    "    print(f\"Total cost: {total_cost}\")"
   ]
  },
  {
   "cell_type": "code",
   "execution_count": 16,
   "id": "7d2dc235",
   "metadata": {},
   "outputs": [
    {
     "name": "stdout",
     "output_type": "stream",
     "text": [
      "Total number of guest: 100\n",
      "Type of event: corporate\n",
      "Cost per person: 75.0\n",
      "--------------------------------\n",
      "Cost of event: 7500.0\n",
      "Sales tax: 600.0\n",
      "--------------------------------\n",
      "Total cost: 8100.0\n"
     ]
    }
   ],
   "source": [
    "event_calculator(num_of_people=100,type = 'corporate', cost = 75.0, tax_rate=0.08)\n"
   ]
  },
  {
   "cell_type": "markdown",
   "id": "535822c4",
   "metadata": {},
   "source": [
    "# Error handling"
   ]
  },
  {
   "cell_type": "markdown",
   "id": "c4225867",
   "metadata": {},
   "source": [
    "## a) Your friend was happy about your work but recently noticed some issues. "
   ]
  },
  {
   "cell_type": "code",
   "execution_count": 18,
   "id": "86def286",
   "metadata": {},
   "outputs": [],
   "source": [
    "def event_calculator(num_of_people, type = 'private', cost = 50.0, tax_rate=0.1):\n",
    "    assert cost>=0, \"only accept a non-negative cost per person.\"\n",
    "    assert tax_rate>=0 and tax_rate<=0.25, \"a sales tax ranging from 0 to 25%.\"\n",
    "    assert type in ('private', 'wedding', 'corporate'), 'only the types of events you planned for in your function can be accepted'\n",
    "    \n",
    "    def cost_of_event(num_of_people, type = 'private', cost = 50.0):\n",
    "        if type == 'wedding':\n",
    "            return num_of_people*cost*1.5\n",
    "        if type == 'corporate' or type == 'private':\n",
    "            return num_of_people*cost\n",
    "        else:\n",
    "            return \n",
    "    def sales_tax (net_cost,type = 'private', tax_rate=0.1):\n",
    "        if type == 'wedding' or type == 'private': \n",
    "            if net_cost <= 1000:\n",
    "                tax_rate = 0\n",
    "            return (net_cost - 1000)*tax_rate\n",
    "        if  type == 'corporate':\n",
    "            return net_cost*tax_rate\n",
    "        else:\n",
    "            return\n",
    "    print(f\"Total number of guest: {num_of_people}\")\n",
    "    print(f\"Type of event: {type}\")\n",
    "    print(f\"Cost per person: {cost}\")\n",
    "    print(\"-\"*30)\n",
    "    print(f\"Cost of event: {cost_of_event(num_of_people,type,cost)}\")\n",
    "    net_cost = cost_of_event(num_of_people,type,cost)\n",
    "    print(f\"Sales tax: {sales_tax(net_cost,type, tax_rate)}\")\n",
    "    tax = sales_tax(net_cost,type, tax_rate)\n",
    "    print(\"-\"*30)\n",
    "    total_cost = tax+net_cost\n",
    "    print(f\"Total cost: {total_cost}\")"
   ]
  },
  {
   "cell_type": "code",
   "execution_count": 19,
   "id": "d3ccd34d",
   "metadata": {},
   "outputs": [
    {
     "ename": "AssertionError",
     "evalue": "only the types of events you planned for in your function can be accepted",
     "output_type": "error",
     "traceback": [
      "\u001b[0;31m---------------------------------------------------------------------------\u001b[0m",
      "\u001b[0;31mAssertionError\u001b[0m                            Traceback (most recent call last)",
      "\u001b[0;32m<ipython-input-19-7637c9d9d9a7>\u001b[0m in \u001b[0;36m<module>\u001b[0;34m\u001b[0m\n\u001b[0;32m----> 1\u001b[0;31m \u001b[0mevent_calculator\u001b[0m\u001b[0;34m(\u001b[0m\u001b[0;36m88\u001b[0m\u001b[0;34m,\u001b[0m\u001b[0;34m\"bachelor party\"\u001b[0m\u001b[0;34m)\u001b[0m\u001b[0;34m\u001b[0m\u001b[0;34m\u001b[0m\u001b[0m\n\u001b[0m",
      "\u001b[0;32m<ipython-input-18-e676445b22cb>\u001b[0m in \u001b[0;36mevent_calculator\u001b[0;34m(num_of_people, type, cost, tax_rate)\u001b[0m\n\u001b[1;32m      2\u001b[0m     \u001b[0;32massert\u001b[0m \u001b[0mcost\u001b[0m\u001b[0;34m>=\u001b[0m\u001b[0;36m0\u001b[0m\u001b[0;34m,\u001b[0m \u001b[0;34m\"only accept a non-negative cost per person.\"\u001b[0m\u001b[0;34m\u001b[0m\u001b[0;34m\u001b[0m\u001b[0m\n\u001b[1;32m      3\u001b[0m     \u001b[0;32massert\u001b[0m \u001b[0mtax_rate\u001b[0m\u001b[0;34m>=\u001b[0m\u001b[0;36m0\u001b[0m \u001b[0;32mand\u001b[0m \u001b[0mtax_rate\u001b[0m\u001b[0;34m<=\u001b[0m\u001b[0;36m0.25\u001b[0m\u001b[0;34m,\u001b[0m \u001b[0;34m\"a sales tax ranging from 0 to 25%.\"\u001b[0m\u001b[0;34m\u001b[0m\u001b[0;34m\u001b[0m\u001b[0m\n\u001b[0;32m----> 4\u001b[0;31m     \u001b[0;32massert\u001b[0m \u001b[0mtype\u001b[0m \u001b[0;32min\u001b[0m \u001b[0;34m(\u001b[0m\u001b[0;34m'private'\u001b[0m\u001b[0;34m,\u001b[0m \u001b[0;34m'wedding'\u001b[0m\u001b[0;34m,\u001b[0m \u001b[0;34m'corporate'\u001b[0m\u001b[0;34m)\u001b[0m\u001b[0;34m,\u001b[0m \u001b[0;34m'only the types of events you planned for in your function can be accepted'\u001b[0m\u001b[0;34m\u001b[0m\u001b[0;34m\u001b[0m\u001b[0m\n\u001b[0m\u001b[1;32m      5\u001b[0m \u001b[0;34m\u001b[0m\u001b[0m\n\u001b[1;32m      6\u001b[0m     \u001b[0;32mdef\u001b[0m \u001b[0mcost_of_event\u001b[0m\u001b[0;34m(\u001b[0m\u001b[0mnum_of_people\u001b[0m\u001b[0;34m,\u001b[0m \u001b[0mtype\u001b[0m \u001b[0;34m=\u001b[0m \u001b[0;34m'private'\u001b[0m\u001b[0;34m,\u001b[0m \u001b[0mcost\u001b[0m \u001b[0;34m=\u001b[0m \u001b[0;36m50.0\u001b[0m\u001b[0;34m)\u001b[0m\u001b[0;34m:\u001b[0m\u001b[0;34m\u001b[0m\u001b[0;34m\u001b[0m\u001b[0m\n",
      "\u001b[0;31mAssertionError\u001b[0m: only the types of events you planned for in your function can be accepted"
     ]
    }
   ],
   "source": [
    "event_calculator(88,\"bachelor party\")"
   ]
  },
  {
   "cell_type": "code",
   "execution_count": 20,
   "id": "1046e291",
   "metadata": {},
   "outputs": [
    {
     "ename": "AssertionError",
     "evalue": "only accept a non-negative cost per person.",
     "output_type": "error",
     "traceback": [
      "\u001b[0;31m---------------------------------------------------------------------------\u001b[0m",
      "\u001b[0;31mAssertionError\u001b[0m                            Traceback (most recent call last)",
      "\u001b[0;32m<ipython-input-20-2cbbe7e439c3>\u001b[0m in \u001b[0;36m<module>\u001b[0;34m\u001b[0m\n\u001b[0;32m----> 1\u001b[0;31m \u001b[0mevent_calculator\u001b[0m\u001b[0;34m(\u001b[0m\u001b[0;36m99\u001b[0m\u001b[0;34m,\u001b[0m\u001b[0mcost\u001b[0m\u001b[0;34m=\u001b[0m\u001b[0;34m-\u001b[0m\u001b[0;36m10\u001b[0m\u001b[0;34m)\u001b[0m\u001b[0;34m\u001b[0m\u001b[0;34m\u001b[0m\u001b[0m\n\u001b[0m",
      "\u001b[0;32m<ipython-input-18-e676445b22cb>\u001b[0m in \u001b[0;36mevent_calculator\u001b[0;34m(num_of_people, type, cost, tax_rate)\u001b[0m\n\u001b[1;32m      1\u001b[0m \u001b[0;32mdef\u001b[0m \u001b[0mevent_calculator\u001b[0m\u001b[0;34m(\u001b[0m\u001b[0mnum_of_people\u001b[0m\u001b[0;34m,\u001b[0m \u001b[0mtype\u001b[0m \u001b[0;34m=\u001b[0m \u001b[0;34m'private'\u001b[0m\u001b[0;34m,\u001b[0m \u001b[0mcost\u001b[0m \u001b[0;34m=\u001b[0m \u001b[0;36m50.0\u001b[0m\u001b[0;34m,\u001b[0m \u001b[0mtax_rate\u001b[0m\u001b[0;34m=\u001b[0m\u001b[0;36m0.1\u001b[0m\u001b[0;34m)\u001b[0m\u001b[0;34m:\u001b[0m\u001b[0;34m\u001b[0m\u001b[0;34m\u001b[0m\u001b[0m\n\u001b[0;32m----> 2\u001b[0;31m     \u001b[0;32massert\u001b[0m \u001b[0mcost\u001b[0m\u001b[0;34m>=\u001b[0m\u001b[0;36m0\u001b[0m\u001b[0;34m,\u001b[0m \u001b[0;34m\"only accept a non-negative cost per person.\"\u001b[0m\u001b[0;34m\u001b[0m\u001b[0;34m\u001b[0m\u001b[0m\n\u001b[0m\u001b[1;32m      3\u001b[0m     \u001b[0;32massert\u001b[0m \u001b[0mtax_rate\u001b[0m\u001b[0;34m>=\u001b[0m\u001b[0;36m0\u001b[0m \u001b[0;32mand\u001b[0m \u001b[0mtax_rate\u001b[0m\u001b[0;34m<=\u001b[0m\u001b[0;36m0.25\u001b[0m\u001b[0;34m,\u001b[0m \u001b[0;34m\"a sales tax ranging from 0 to 25%.\"\u001b[0m\u001b[0;34m\u001b[0m\u001b[0;34m\u001b[0m\u001b[0m\n\u001b[1;32m      4\u001b[0m     \u001b[0;32massert\u001b[0m \u001b[0mtype\u001b[0m \u001b[0;32min\u001b[0m \u001b[0;34m(\u001b[0m\u001b[0;34m'private'\u001b[0m\u001b[0;34m,\u001b[0m \u001b[0;34m'wedding'\u001b[0m\u001b[0;34m,\u001b[0m \u001b[0;34m'corporate'\u001b[0m\u001b[0;34m)\u001b[0m\u001b[0;34m,\u001b[0m \u001b[0;34m'only the types of events you planned for in your function can be accepted'\u001b[0m\u001b[0;34m\u001b[0m\u001b[0;34m\u001b[0m\u001b[0m\n\u001b[1;32m      5\u001b[0m \u001b[0;34m\u001b[0m\u001b[0m\n",
      "\u001b[0;31mAssertionError\u001b[0m: only accept a non-negative cost per person."
     ]
    }
   ],
   "source": [
    "event_calculator(99,cost=-10)"
   ]
  },
  {
   "cell_type": "markdown",
   "id": "d420aead",
   "metadata": {},
   "source": [
    "## b) Your friend does like that no erroneous values come through anymore but her customers don't really understand your Python generated warnings. "
   ]
  },
  {
   "cell_type": "code",
   "execution_count": 35,
   "id": "f540715e",
   "metadata": {},
   "outputs": [],
   "source": [
    "def event_calculator(num_of_people, type = 'private', cost = 50.0, tax_rate=0.1):\n",
    "    try:\n",
    "        if cost<0:\n",
    "            raise Exception(\"Please check your input values\")\n",
    "        if tax_rate<0 or tax_rate>0.25:\n",
    "            raise Exception(\"Please check your input values\")\n",
    "        if type not in ('private', 'wedding', 'corporate'):\n",
    "            raise Exception(\"Please check your input values\")\n",
    "            \n",
    "        def cost_of_event(num_of_people, type = 'private', cost = 50.0):\n",
    "            if type == 'wedding':\n",
    "                return num_of_people*cost*1.5\n",
    "            if type == 'corporate' or type == 'private':\n",
    "                        return num_of_people*cost\n",
    "        def sales_tax (net_cost,type = 'private', tax_rate=0.1):\n",
    "            if type == 'wedding' or type == 'private': \n",
    "                if net_cost <= 1000:\n",
    "                    tax_rate = 0\n",
    "                return (net_cost - 1000)*tax_rate\n",
    "            if  type == 'corporate':\n",
    "                return net_cost*tax_rate  \n",
    "        print(f\"Total number of guest: {num_of_people}\")\n",
    "        print(f\"Type of event: {type}\")\n",
    "        print(f\"Cost per person: {cost}\")\n",
    "        print(\"-\"*30)\n",
    "        print(f\"Cost of event: {cost_of_event(num_of_people,type,cost)}\")\n",
    "        net_cost = cost_of_event(num_of_people,type,cost)\n",
    "        print(f\"Sales tax: {sales_tax(net_cost,type, tax_rate)}\")\n",
    "        tax = sales_tax(net_cost,type, tax_rate)\n",
    "        print(\"-\"*30)\n",
    "        total_cost = tax+net_cost\n",
    "        print(f\"Total cost: {total_cost}\")    \n",
    "                    \n",
    "    \n",
    "    \n",
    "    except:\n",
    "         print(f'Please check your input values.')\n",
    "            \n",
    "     \n",
    "\n",
    "            \n"
   ]
  },
  {
   "cell_type": "code",
   "execution_count": 36,
   "id": "d4d3d061",
   "metadata": {},
   "outputs": [
    {
     "name": "stdout",
     "output_type": "stream",
     "text": [
      "Please check your input values.\n"
     ]
    }
   ],
   "source": [
    "event_calculator(88,tax_rate = -1)"
   ]
  },
  {
   "cell_type": "code",
   "execution_count": null,
   "id": "2a2591aa",
   "metadata": {},
   "outputs": [],
   "source": []
  }
 ],
 "metadata": {
  "kernelspec": {
   "display_name": "Python 3",
   "language": "python",
   "name": "python3"
  },
  "language_info": {
   "codemirror_mode": {
    "name": "ipython",
    "version": 3
   },
   "file_extension": ".py",
   "mimetype": "text/x-python",
   "name": "python",
   "nbconvert_exporter": "python",
   "pygments_lexer": "ipython3",
   "version": "3.8.8"
  }
 },
 "nbformat": 4,
 "nbformat_minor": 5
}
