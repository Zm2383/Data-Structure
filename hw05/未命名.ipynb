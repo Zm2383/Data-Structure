{
 "cells": [
  {
   "cell_type": "code",
   "execution_count": 4,
   "id": "53fde2fc",
   "metadata": {},
   "outputs": [
    {
     "name": "stdout",
     "output_type": "stream",
     "text": [
      "Looking in indexes: https://test.pypi.org/simple/\n",
      "Requirement already satisfied: weather-zm2383 in /Users/apple/opt/anaconda3/lib/python3.8/site-packages (0.1.0)\n",
      "Note: you may need to restart the kernel to use updated packages.\n"
     ]
    }
   ],
   "source": [
    "pip install -i https://test.pypi.org/simple/ weather-zm2383"
   ]
  },
  {
   "cell_type": "code",
   "execution_count": 8,
   "id": "1c01d6d4",
   "metadata": {},
   "outputs": [],
   "source": [
    "from weather_zm2383 import *"
   ]
  },
  {
   "cell_type": "code",
   "execution_count": 9,
   "id": "45371e47",
   "metadata": {},
   "outputs": [
    {
     "ename": "NameError",
     "evalue": "name 'get_wind' is not defined",
     "output_type": "error",
     "traceback": [
      "\u001b[0;31m---------------------------------------------------------------------------\u001b[0m",
      "\u001b[0;31mNameError\u001b[0m                                 Traceback (most recent call last)",
      "\u001b[0;32m<ipython-input-9-b5c61a61e85a>\u001b[0m in \u001b[0;36m<module>\u001b[0;34m\u001b[0m\n\u001b[0;32m----> 1\u001b[0;31m \u001b[0mget_wind\u001b[0m\u001b[0;34m(\u001b[0m\u001b[0mappid\u001b[0m\u001b[0;34m,\u001b[0m\u001b[0;34m\"Tokyo\"\u001b[0m\u001b[0;34m)\u001b[0m\u001b[0;34m\u001b[0m\u001b[0;34m\u001b[0m\u001b[0m\n\u001b[0m",
      "\u001b[0;31mNameError\u001b[0m: name 'get_wind' is not defined"
     ]
    }
   ],
   "source": [
    "get_wind(appid,\"Tokyo\")"
   ]
  },
  {
   "cell_type": "code",
   "execution_count": 10,
   "id": "3231dd3e",
   "metadata": {},
   "outputs": [
    {
     "data": {
      "text/plain": [
       "'Nbui.'"
      ]
     },
     "execution_count": 10,
     "metadata": {},
     "output_type": "execute_result"
    }
   ],
   "source": [
    "text = \"Math.\"\n",
    "shift = 1\n",
    "cipher_zm2383.cipher(text, shift)"
   ]
  },
  {
   "cell_type": "code",
   "execution_count": null,
   "id": "f0684ae0",
   "metadata": {},
   "outputs": [],
   "source": []
  }
 ],
 "metadata": {
  "kernelspec": {
   "display_name": "Python 3",
   "language": "python",
   "name": "python3"
  },
  "language_info": {
   "codemirror_mode": {
    "name": "ipython",
    "version": 3
   },
   "file_extension": ".py",
   "mimetype": "text/x-python",
   "name": "python",
   "nbconvert_exporter": "python",
   "pygments_lexer": "ipython3",
   "version": "3.8.8"
  }
 },
 "nbformat": 4,
 "nbformat_minor": 5
}
