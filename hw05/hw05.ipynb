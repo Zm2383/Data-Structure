{
 "cells": [
  {
   "cell_type": "markdown",
   "id": "b8ed6f37",
   "metadata": {},
   "source": [
    "# a) Length of Narratives"
   ]
  },
  {
   "cell_type": "code",
   "execution_count": 26,
   "id": "7ae70c6c",
   "metadata": {},
   "outputs": [],
   "source": [
    "import pandas as pd\n",
    "import numpy as ny"
   ]
  },
  {
   "cell_type": "code",
   "execution_count": 195,
   "id": "58413fad",
   "metadata": {},
   "outputs": [],
   "source": [
    "d=pd.read_csv(\"/Users/apple/Documents/GitHub/Zhenwei_Ma/hw05/emergency.csv\",header=None)\n",
    "d.columns=['narratives']"
   ]
  },
  {
   "cell_type": "code",
   "execution_count": 177,
   "id": "3c26f6fe",
   "metadata": {},
   "outputs": [
    {
     "name": "stdout",
     "output_type": "stream",
     "text": [
      "<class 'pandas.core.frame.DataFrame'>\n",
      "RangeIndex: 10000 entries, 0 to 9999\n",
      "Data columns (total 1 columns):\n",
      " #   Column      Non-Null Count  Dtype \n",
      "---  ------      --------------  ----- \n",
      " 0   narratives  10000 non-null  object\n",
      "dtypes: object(1)\n",
      "memory usage: 78.2+ KB\n"
     ]
    },
    {
     "data": {
      "text/html": [
       "<div>\n",
       "<style scoped>\n",
       "    .dataframe tbody tr th:only-of-type {\n",
       "        vertical-align: middle;\n",
       "    }\n",
       "\n",
       "    .dataframe tbody tr th {\n",
       "        vertical-align: top;\n",
       "    }\n",
       "\n",
       "    .dataframe thead th {\n",
       "        text-align: right;\n",
       "    }\n",
       "</style>\n",
       "<table border=\"1\" class=\"dataframe\">\n",
       "  <thead>\n",
       "    <tr style=\"text-align: right;\">\n",
       "      <th></th>\n",
       "      <th>narratives</th>\n",
       "    </tr>\n",
       "  </thead>\n",
       "  <tbody>\n",
       "    <tr>\n",
       "      <th>0</th>\n",
       "      <td>10 MO F FELL OUT OF SHOPPING CART;DX FRACTURED...</td>\n",
       "    </tr>\n",
       "    <tr>\n",
       "      <th>1</th>\n",
       "      <td>75YOF WITH LAC TO FINGER FROM METAL CAN</td>\n",
       "    </tr>\n",
       "    <tr>\n",
       "      <th>2</th>\n",
       "      <td>8YOF FRACTURED FINGER FELL OFF HER BIKE</td>\n",
       "    </tr>\n",
       "    <tr>\n",
       "      <th>3</th>\n",
       "      <td>9 YOM TACKLED DURING FOOTBALL PRACTICE.  DX: C...</td>\n",
       "    </tr>\n",
       "    <tr>\n",
       "      <th>4</th>\n",
       "      <td>PT WAS HIT ON RT SIDE WHILE PLAYING FOOTBALL D...</td>\n",
       "    </tr>\n",
       "  </tbody>\n",
       "</table>\n",
       "</div>"
      ],
      "text/plain": [
       "                                          narratives\n",
       "0  10 MO F FELL OUT OF SHOPPING CART;DX FRACTURED...\n",
       "1           75YOF WITH LAC TO FINGER FROM METAL CAN \n",
       "2           8YOF FRACTURED FINGER FELL OFF HER BIKE \n",
       "3  9 YOM TACKLED DURING FOOTBALL PRACTICE.  DX: C...\n",
       "4  PT WAS HIT ON RT SIDE WHILE PLAYING FOOTBALL D..."
      ]
     },
     "execution_count": 177,
     "metadata": {},
     "output_type": "execute_result"
    }
   ],
   "source": [
    "d.info()\n",
    "d.head()"
   ]
  },
  {
   "cell_type": "code",
   "execution_count": 76,
   "id": "e02a8338",
   "metadata": {},
   "outputs": [],
   "source": [
    "d['length']=d[\"narratives\"].str.len()"
   ]
  },
  {
   "cell_type": "code",
   "execution_count": 87,
   "id": "45a6551a",
   "metadata": {},
   "outputs": [
    {
     "data": {
      "text/plain": [
       "143"
      ]
     },
     "execution_count": 87,
     "metadata": {},
     "output_type": "execute_result"
    }
   ],
   "source": [
    "d['length'].max()"
   ]
  },
  {
   "cell_type": "markdown",
   "id": "0649bea7",
   "metadata": {},
   "source": [
    "## I tried to select the longest data for observation, and found that their length was 143. Therefore, the longest data is not only one, but many are juxtaposed."
   ]
  },
  {
   "cell_type": "code",
   "execution_count": 92,
   "id": "314e27aa",
   "metadata": {},
   "outputs": [
    {
     "name": "stdout",
     "output_type": "stream",
     "text": [
      "                                             narratives  length\n",
      "5811  DX SYNCOPE/PROLONGED QT/CHEST PN: 49YOF COMPET...     143\n",
      "511   19MOWF  PARENTS HOLDING PT.  DAD STATES SHE WA...     143\n",
      "4322  AT  HOUSE- FELL ONTO BACK OF HIS HEAD, WHILE  ...     143\n",
      "6493  21MOF IN LIVING ROOM,FOUND W/BURN THUMB,OTTOMA...     143\n",
      "4791  79 YO F, C/O RT SHOULDER, FACIAL PAIN, WAS WAL...     143\n",
      "920   57 YO F WAS POURING KEROSENE OVER AN OPEN FLAM...     143\n",
      "1752  43YOM WAS USING A CIRCULAR SAW LAST PM CUTTING...     143\n",
      "3795  61 YOM, WOKE UP, DIZZY,HAND FELL THRU WINDOW, ...     143\n",
      "8570  16YOM  PT'S L SHOULDER POPPED OUT FOR A MOMENT...     143\n",
      "5856  17YOM WITH FINGER FX LAST WEEK, HAD SPLINT PLA...     143\n",
      "9666  22YOM WAS LIGHTING PROPANE PIZZA OVEN ON FRI. ...     143\n",
      "8589  26 YO F, C/O TENDER GROWTH ON HEAD,HAS HAD IT ...     143\n",
      "3613  37YOM  PT STATES HE HAD A NAIL STUCK IN HIS L ...     143\n",
      "9670  45YOWM  TONIGHT PT WAS TRYING TO MOVE HIS FATH...     143\n",
      "7707  17 YO F SLIPPED AT POOL WHEN FEET WENT OUT IN ...     143\n",
      "5782  HELMETED 41YOM RIDING W/A GROUP OF CYCLISTS@UN...     143\n",
      "1741  CHI W/SCALP LAC.& FOREHEAD CONT.:20MOM DAD SHU...     143\n",
      "8537  26YO WHITE MALE STS TRIED PUTTING OUT FIRE AT ...     143\n",
      "2683  58YO F ON BICYCLE WHEN HER HUSBAND, ALSO ON BI...     143\n",
      "2046  26 YO M INJECTING MORPHINE INTO R ARM, DEVELOP...     143\n"
     ]
    }
   ],
   "source": [
    "long = d.sort_values(by =['length'], ascending=False).head()\n",
    "print(short)"
   ]
  },
  {
   "cell_type": "code",
   "execution_count": 91,
   "id": "21a0c8dd",
   "metadata": {},
   "outputs": [
    {
     "name": "stdout",
     "output_type": "stream",
     "text": [
      "                                             narratives  length\n",
      "109   40YOM-C/O FOOT/HEEL PAIN RUNNIJNG BACKWARDS FE...     143\n",
      "511   19MOWF  PARENTS HOLDING PT.  DAD STATES SHE WA...     143\n",
      "630   44YOF  PT HAVING SEVERE R ARM PAIN THAT IS RAD...     143\n",
      "920   57 YO F WAS POURING KEROSENE OVER AN OPEN FLAM...     143\n",
      "1111  13YOM DID OUTDOOR WORKOUT X1 1/2 HRS, DEVELOEP...     143\n",
      "...                                                 ...     ...\n",
      "9370  20 YO M, RUNNING FROM POLICE AFTER AN ALLEGED ...     143\n",
      "9666  22YOM WAS LIGHTING PROPANE PIZZA OVEN ON FRI. ...     143\n",
      "9670  45YOWM  TONIGHT PT WAS TRYING TO MOVE HIS FATH...     143\n",
      "9749  PT.INJ.NOSE,HAND,WRIST,ELBOW WHEN RIDING BIKE ...     143\n",
      "9853  15YF ON BUS TO SOCCER GAME&NOTICED \"FUNNY SMEL...     143\n",
      "\n",
      "[66 rows x 2 columns]\n"
     ]
    }
   ],
   "source": [
    "longest=d[d[\"narratives\"].str.len()==d['length'].max()]\n",
    "print(longest)"
   ]
  },
  {
   "cell_type": "code",
   "execution_count": 93,
   "id": "a15fdd38",
   "metadata": {},
   "outputs": [
    {
     "name": "stdout",
     "output_type": "stream",
     "text": [
      "             narratives  length\n",
      "7127  ABR HIP ON FLOOR       17\n",
      "7731  INGESTION OF ***       17\n"
     ]
    }
   ],
   "source": [
    "shortest=d[d[\"narratives\"].str.len()==d['length'].min()]\n",
    "print(shortest)"
   ]
  },
  {
   "cell_type": "markdown",
   "id": "969a6d63",
   "metadata": {},
   "source": [
    "# b) Fractures"
   ]
  },
  {
   "cell_type": "code",
   "execution_count": 95,
   "id": "67426bd0",
   "metadata": {},
   "outputs": [],
   "source": [
    "import re"
   ]
  },
  {
   "cell_type": "code",
   "execution_count": 104,
   "id": "de3db431",
   "metadata": {},
   "outputs": [],
   "source": [
    "d['fractures'] = d['narratives'].str.extract(r'(FRACT*|FX)')"
   ]
  },
  {
   "cell_type": "code",
   "execution_count": 105,
   "id": "609a8ec6",
   "metadata": {},
   "outputs": [
    {
     "data": {
      "text/html": [
       "<div>\n",
       "<style scoped>\n",
       "    .dataframe tbody tr th:only-of-type {\n",
       "        vertical-align: middle;\n",
       "    }\n",
       "\n",
       "    .dataframe tbody tr th {\n",
       "        vertical-align: top;\n",
       "    }\n",
       "\n",
       "    .dataframe thead th {\n",
       "        text-align: right;\n",
       "    }\n",
       "</style>\n",
       "<table border=\"1\" class=\"dataframe\">\n",
       "  <thead>\n",
       "    <tr style=\"text-align: right;\">\n",
       "      <th></th>\n",
       "      <th>narratives</th>\n",
       "      <th>length</th>\n",
       "      <th>fractures</th>\n",
       "    </tr>\n",
       "  </thead>\n",
       "  <tbody>\n",
       "    <tr>\n",
       "      <th>0</th>\n",
       "      <td>10 MO F FELL OUT OF SHOPPING CART;DX FRACTURED...</td>\n",
       "      <td>53</td>\n",
       "      <td>FRACT</td>\n",
       "    </tr>\n",
       "    <tr>\n",
       "      <th>1</th>\n",
       "      <td>75YOF WITH LAC TO FINGER FROM METAL CAN</td>\n",
       "      <td>40</td>\n",
       "      <td>NaN</td>\n",
       "    </tr>\n",
       "    <tr>\n",
       "      <th>2</th>\n",
       "      <td>8YOF FRACTURED FINGER FELL OFF HER BIKE</td>\n",
       "      <td>40</td>\n",
       "      <td>FRACT</td>\n",
       "    </tr>\n",
       "    <tr>\n",
       "      <th>3</th>\n",
       "      <td>9 YOM TACKLED DURING FOOTBALL PRACTICE.  DX: C...</td>\n",
       "      <td>57</td>\n",
       "      <td>NaN</td>\n",
       "    </tr>\n",
       "    <tr>\n",
       "      <th>4</th>\n",
       "      <td>PT WAS HIT ON RT SIDE WHILE PLAYING FOOTBALL D...</td>\n",
       "      <td>52</td>\n",
       "      <td>NaN</td>\n",
       "    </tr>\n",
       "  </tbody>\n",
       "</table>\n",
       "</div>"
      ],
      "text/plain": [
       "                                          narratives  length fractures\n",
       "0  10 MO F FELL OUT OF SHOPPING CART;DX FRACTURED...      53     FRACT\n",
       "1           75YOF WITH LAC TO FINGER FROM METAL CAN       40       NaN\n",
       "2           8YOF FRACTURED FINGER FELL OFF HER BIKE       40     FRACT\n",
       "3  9 YOM TACKLED DURING FOOTBALL PRACTICE.  DX: C...      57       NaN\n",
       "4  PT WAS HIT ON RT SIDE WHILE PLAYING FOOTBALL D...      52       NaN"
      ]
     },
     "execution_count": 105,
     "metadata": {},
     "output_type": "execute_result"
    }
   ],
   "source": [
    "d.head()"
   ]
  },
  {
   "cell_type": "code",
   "execution_count": 106,
   "id": "29e6f5b0",
   "metadata": {},
   "outputs": [
    {
     "data": {
      "text/plain": [
       "FX       969\n",
       "FRACT    538\n",
       "FRAC      17\n",
       "Name: fractures, dtype: int64"
      ]
     },
     "execution_count": 106,
     "metadata": {},
     "output_type": "execute_result"
    }
   ],
   "source": [
    "d['fractures'].value_counts()"
   ]
  },
  {
   "cell_type": "code",
   "execution_count": 107,
   "id": "dc35c8a7",
   "metadata": {},
   "outputs": [
    {
     "data": {
      "text/plain": [
       "1524"
      ]
     },
     "execution_count": 107,
     "metadata": {},
     "output_type": "execute_result"
    }
   ],
   "source": [
    "len(d[d['fractures'].isna() != 1])"
   ]
  },
  {
   "cell_type": "markdown",
   "id": "6ce7898f",
   "metadata": {},
   "source": [
    "## there are 1524 narratives related to \"Fracutres\"."
   ]
  },
  {
   "cell_type": "markdown",
   "id": "57139533",
   "metadata": {},
   "source": [
    "# c) Body Parts"
   ]
  },
  {
   "cell_type": "code",
   "execution_count": 110,
   "id": "162653f3",
   "metadata": {},
   "outputs": [
    {
     "data": {
      "text/html": [
       "<div>\n",
       "<style scoped>\n",
       "    .dataframe tbody tr th:only-of-type {\n",
       "        vertical-align: middle;\n",
       "    }\n",
       "\n",
       "    .dataframe tbody tr th {\n",
       "        vertical-align: top;\n",
       "    }\n",
       "\n",
       "    .dataframe thead th {\n",
       "        text-align: right;\n",
       "    }\n",
       "</style>\n",
       "<table border=\"1\" class=\"dataframe\">\n",
       "  <thead>\n",
       "    <tr style=\"text-align: right;\">\n",
       "      <th></th>\n",
       "      <th>narratives</th>\n",
       "      <th>length</th>\n",
       "      <th>fractures</th>\n",
       "    </tr>\n",
       "  </thead>\n",
       "  <tbody>\n",
       "    <tr>\n",
       "      <th>0</th>\n",
       "      <td>10 MO F FELL OUT OF SHOPPING CART;DX FRACTURED...</td>\n",
       "      <td>53</td>\n",
       "      <td>FRACT</td>\n",
       "    </tr>\n",
       "    <tr>\n",
       "      <th>2</th>\n",
       "      <td>8YOF FRACTURED FINGER FELL OFF HER BIKE</td>\n",
       "      <td>40</td>\n",
       "      <td>FRACT</td>\n",
       "    </tr>\n",
       "    <tr>\n",
       "      <th>6</th>\n",
       "      <td>12YOF FELL DOWN STAIRS DX: FX RADIUS</td>\n",
       "      <td>36</td>\n",
       "      <td>FX</td>\n",
       "    </tr>\n",
       "    <tr>\n",
       "      <th>10</th>\n",
       "      <td>77 Y MALE HAD MECHANICAL FALL DOWN STEPS CAUSI...</td>\n",
       "      <td>71</td>\n",
       "      <td>FX</td>\n",
       "    </tr>\n",
       "    <tr>\n",
       "      <th>19</th>\n",
       "      <td>34YOM-FELL DOWN INDOOR STEPS @ HOME CARRYING A...</td>\n",
       "      <td>117</td>\n",
       "      <td>FX</td>\n",
       "    </tr>\n",
       "  </tbody>\n",
       "</table>\n",
       "</div>"
      ],
      "text/plain": [
       "                                           narratives  length fractures\n",
       "0   10 MO F FELL OUT OF SHOPPING CART;DX FRACTURED...      53     FRACT\n",
       "2            8YOF FRACTURED FINGER FELL OFF HER BIKE       40     FRACT\n",
       "6                12YOF FELL DOWN STAIRS DX: FX RADIUS      36        FX\n",
       "10  77 Y MALE HAD MECHANICAL FALL DOWN STEPS CAUSI...      71        FX\n",
       "19  34YOM-FELL DOWN INDOOR STEPS @ HOME CARRYING A...     117        FX"
      ]
     },
     "execution_count": 110,
     "metadata": {},
     "output_type": "execute_result"
    }
   ],
   "source": [
    "d2=d[d['fractures'].isna() != 1]\n",
    "d2.head()"
   ]
  },
  {
   "cell_type": "code",
   "execution_count": 119,
   "id": "d0a2da86",
   "metadata": {},
   "outputs": [],
   "source": [
    "d3= d2['narratives'].str.extract(r'(LEG|HIP|FINGER|HAND|ANKLE|RADIUS|SHOULDER|ELBOW|FOOT|TOE|NOSE|RIB)')\n",
    "d3=d3.dropna()"
   ]
  },
  {
   "cell_type": "code",
   "execution_count": 127,
   "id": "d2bb3da6",
   "metadata": {},
   "outputs": [
    {
     "name": "stdout",
     "output_type": "stream",
     "text": [
      "           0\n",
      "2     FINGER\n",
      "6     RADIUS\n",
      "10     ANKLE\n",
      "31    FINGER\n",
      "35    FINGER\n",
      "...      ...\n",
      "9936    FOOT\n",
      "9939    HAND\n",
      "9945  RADIUS\n",
      "9980   ELBOW\n",
      "9984  RADIUS\n",
      "\n",
      "[1016 rows x 1 columns]\n",
      "<class 'pandas.core.frame.DataFrame'>\n",
      "Int64Index: 1016 entries, 2 to 9984\n",
      "Data columns (total 1 columns):\n",
      " #   Column  Non-Null Count  Dtype \n",
      "---  ------  --------------  ----- \n",
      " 0   0       1016 non-null   object\n",
      "dtypes: object(1)\n",
      "memory usage: 15.9+ KB\n"
     ]
    }
   ],
   "source": [
    "print(d3)\n",
    "d3.info()"
   ]
  },
  {
   "cell_type": "code",
   "execution_count": 140,
   "id": "40abd705",
   "metadata": {},
   "outputs": [
    {
     "data": {
      "text/plain": [
       "HAND        133\n",
       "FOOT        131\n",
       "FINGER      125\n",
       "ANKLE       117\n",
       "HIP          82\n",
       "RIB          81\n",
       "RADIUS       78\n",
       "ELBOW        74\n",
       "TOE          63\n",
       "SHOULDER     60\n",
       "LEG          59\n",
       "NOSE         13\n",
       "dtype: int64"
      ]
     },
     "execution_count": 140,
     "metadata": {},
     "output_type": "execute_result"
    }
   ],
   "source": [
    "d4=d3.value_counts()\n",
    "d4"
   ]
  },
  {
   "cell_type": "code",
   "execution_count": 141,
   "id": "3ae53260",
   "metadata": {},
   "outputs": [
    {
     "data": {
      "text/plain": [
       "Text(0, 0.5, 'Occurance')"
      ]
     },
     "execution_count": 141,
     "metadata": {},
     "output_type": "execute_result"
    },
    {
     "data": {
      "image/png": "[encoded data removed]",
      "text/plain": [
       "<Figure size 432x288 with 1 Axes>"
      ]
     },
     "metadata": {
      "needs_background": "light"
     },
     "output_type": "display_data"
    }
   ],
   "source": [
    "from matplotlib import pyplot as pl\n",
    "\n",
    "d4.plot.bar()\n",
    "pl.title (\"Fractured Body Parts\")\n",
    "pl.xlabel (\"Body Parts\")\n",
    "pl.ylabel (\"Occurance\")"
   ]
  },
  {
   "cell_type": "markdown",
   "id": "788547f1",
   "metadata": {},
   "source": [
    "# d) Age and Gender"
   ]
  },
  {
   "cell_type": "code",
   "execution_count": 200,
   "id": "bff68dbb",
   "metadata": {},
   "outputs": [],
   "source": [
    "d5 = pd.read_csv('/Users/apple/Documents/GitHub/Zhenwei_Ma/hw05/emergency.csv', header=None)"
   ]
  },
  {
   "cell_type": "code",
   "execution_count": 201,
   "id": "0622a109",
   "metadata": {},
   "outputs": [
    {
     "data": {
      "text/plain": [
       "7343"
      ]
     },
     "execution_count": 201,
     "metadata": {},
     "output_type": "execute_result"
    }
   ],
   "source": [
    "age_gender_list = [i for i in d5[0] if re.search(r'\\d{1,3}\\s*(YR|YO|MO)\\s*(F|M)\\w*\\b',i)]\n",
    "len(age_gender_list)"
   ]
  },
  {
   "cell_type": "code",
   "execution_count": 202,
   "id": "7cb45779",
   "metadata": {},
   "outputs": [
    {
     "data": {
      "text/html": [
       "<div>\n",
       "<style scoped>\n",
       "    .dataframe tbody tr th:only-of-type {\n",
       "        vertical-align: middle;\n",
       "    }\n",
       "\n",
       "    .dataframe tbody tr th {\n",
       "        vertical-align: top;\n",
       "    }\n",
       "\n",
       "    .dataframe thead th {\n",
       "        text-align: right;\n",
       "    }\n",
       "</style>\n",
       "<table border=\"1\" class=\"dataframe\">\n",
       "  <thead>\n",
       "    <tr style=\"text-align: right;\">\n",
       "      <th></th>\n",
       "      <th>text</th>\n",
       "    </tr>\n",
       "  </thead>\n",
       "  <tbody>\n",
       "    <tr>\n",
       "      <th>0</th>\n",
       "      <td>10 MO F FELL OUT OF SHOPPING CART;DX FRACTURED...</td>\n",
       "    </tr>\n",
       "    <tr>\n",
       "      <th>1</th>\n",
       "      <td>75YOF WITH LAC TO FINGER FROM METAL CAN</td>\n",
       "    </tr>\n",
       "    <tr>\n",
       "      <th>2</th>\n",
       "      <td>8YOF FRACTURED FINGER FELL OFF HER BIKE</td>\n",
       "    </tr>\n",
       "    <tr>\n",
       "      <th>3</th>\n",
       "      <td>9 YOM TACKLED DURING FOOTBALL PRACTICE.  DX: C...</td>\n",
       "    </tr>\n",
       "    <tr>\n",
       "      <th>4</th>\n",
       "      <td>DX NASAL INJ: 9YOM C/O FELL OFF SWING @ SCHOOL...</td>\n",
       "    </tr>\n",
       "  </tbody>\n",
       "</table>\n",
       "</div>"
      ],
      "text/plain": [
       "                                                text\n",
       "0  10 MO F FELL OUT OF SHOPPING CART;DX FRACTURED...\n",
       "1           75YOF WITH LAC TO FINGER FROM METAL CAN \n",
       "2           8YOF FRACTURED FINGER FELL OFF HER BIKE \n",
       "3  9 YOM TACKLED DURING FOOTBALL PRACTICE.  DX: C...\n",
       "4  DX NASAL INJ: 9YOM C/O FELL OFF SWING @ SCHOOL..."
      ]
     },
     "execution_count": 202,
     "metadata": {},
     "output_type": "execute_result"
    }
   ],
   "source": [
    "age_gender = pd.DataFrame(age_gender_list,columns=['text'])\n",
    "age_gender.head(5)"
   ]
  },
  {
   "cell_type": "code",
   "execution_count": 203,
   "id": "3535487f",
   "metadata": {},
   "outputs": [],
   "source": [
    "age_gender['age'] = [match.group(1) for match in [re.search(r'(\\d{1,3})\\s*(YR|YO|MO)\\s*(F|M)\\w*\\b',i) for i in age_gender['text']] if match]\n",
    "age_gender['gender'] = [match.group(3) for match in [re.search(r'(\\d{1,3})\\s*(YR|YO|MO)\\s*(F|M)\\w*\\b',i) for i in age_gender['text']] if match]\n",
    "age_gender['age_unit']= [match.group(2) for match in [re.search(r'(\\d{1,3})\\s*(YR|YO|MO)\\s*(F|M)\\w*\\b',i) for i in age_gender['text']] if match]"
   ]
  },
  {
   "cell_type": "code",
   "execution_count": 204,
   "id": "b2865698",
   "metadata": {},
   "outputs": [
    {
     "data": {
      "text/html": [
       "<div>\n",
       "<style scoped>\n",
       "    .dataframe tbody tr th:only-of-type {\n",
       "        vertical-align: middle;\n",
       "    }\n",
       "\n",
       "    .dataframe tbody tr th {\n",
       "        vertical-align: top;\n",
       "    }\n",
       "\n",
       "    .dataframe thead th {\n",
       "        text-align: right;\n",
       "    }\n",
       "</style>\n",
       "<table border=\"1\" class=\"dataframe\">\n",
       "  <thead>\n",
       "    <tr style=\"text-align: right;\">\n",
       "      <th></th>\n",
       "      <th>text</th>\n",
       "      <th>age</th>\n",
       "      <th>gender</th>\n",
       "    </tr>\n",
       "  </thead>\n",
       "  <tbody>\n",
       "    <tr>\n",
       "      <th>0</th>\n",
       "      <td>10 MO F FELL OUT OF SHOPPING CART;DX FRACTURED...</td>\n",
       "      <td>0.833333</td>\n",
       "      <td>F</td>\n",
       "    </tr>\n",
       "    <tr>\n",
       "      <th>1</th>\n",
       "      <td>75YOF WITH LAC TO FINGER FROM METAL CAN</td>\n",
       "      <td>75.000000</td>\n",
       "      <td>F</td>\n",
       "    </tr>\n",
       "    <tr>\n",
       "      <th>2</th>\n",
       "      <td>8YOF FRACTURED FINGER FELL OFF HER BIKE</td>\n",
       "      <td>8.000000</td>\n",
       "      <td>F</td>\n",
       "    </tr>\n",
       "    <tr>\n",
       "      <th>3</th>\n",
       "      <td>9 YOM TACKLED DURING FOOTBALL PRACTICE.  DX: C...</td>\n",
       "      <td>9.000000</td>\n",
       "      <td>M</td>\n",
       "    </tr>\n",
       "    <tr>\n",
       "      <th>4</th>\n",
       "      <td>DX NASAL INJ: 9YOM C/O FELL OFF SWING @ SCHOOL...</td>\n",
       "      <td>9.000000</td>\n",
       "      <td>M</td>\n",
       "    </tr>\n",
       "  </tbody>\n",
       "</table>\n",
       "</div>"
      ],
      "text/plain": [
       "                                                text        age gender\n",
       "0  10 MO F FELL OUT OF SHOPPING CART;DX FRACTURED...   0.833333      F\n",
       "1           75YOF WITH LAC TO FINGER FROM METAL CAN   75.000000      F\n",
       "2           8YOF FRACTURED FINGER FELL OFF HER BIKE    8.000000      F\n",
       "3  9 YOM TACKLED DURING FOOTBALL PRACTICE.  DX: C...   9.000000      M\n",
       "4  DX NASAL INJ: 9YOM C/O FELL OFF SWING @ SCHOOL...   9.000000      M"
      ]
     },
     "execution_count": 204,
     "metadata": {},
     "output_type": "execute_result"
    }
   ],
   "source": [
    "age_gender['age'] = age_gender['age'].astype(str).astype(int)\n",
    "age_gender.loc[age_gender['age_unit'] == 'MO', 'age'] = age_gender['age']/12\n",
    "age_gender = age_gender.drop(columns=['age_unit'])\n",
    "age_gender.head(5)"
   ]
  },
  {
   "cell_type": "code",
   "execution_count": 205,
   "id": "42ebc3d1",
   "metadata": {},
   "outputs": [
    {
     "data": {
      "text/plain": [
       "M    4145\n",
       "F    3198\n",
       "Name: gender, dtype: int64"
      ]
     },
     "execution_count": 205,
     "metadata": {},
     "output_type": "execute_result"
    }
   ],
   "source": [
    "age_gender['gender'].value_counts()"
   ]
  },
  {
   "cell_type": "code",
   "execution_count": 206,
   "id": "409b1902",
   "metadata": {},
   "outputs": [
    {
     "data": {
      "image/png": "[encoded data removed]",
      "text/plain": [
       "<Figure size 1080x504 with 1 Axes>"
      ]
     },
     "metadata": {
      "needs_background": "light"
     },
     "output_type": "display_data"
    }
   ],
   "source": [
    "count = age_gender.groupby('age').count()\n",
    "age_gender['count'] = age_gender.groupby('age')['age'].transform('count')\n",
    "fig, ax = plt.subplots(figsize = (15,7))\n",
    "age_gender[age_gender_df['gender'] == 'M']['age'].value_counts().sort_index().plot.line(label = 'Male')\n",
    "age_gender[age_gender_df['gender'] == 'F']['age'].value_counts().sort_index().plot.line(label = 'Female')\n",
    "leg = ax.legend()"
   ]
  },
  {
   "cell_type": "code",
   "execution_count": null,
   "id": "f40870fd",
   "metadata": {},
   "outputs": [],
   "source": []
  },
  {
   "cell_type": "code",
   "execution_count": null,
   "id": "63d8dfd8",
   "metadata": {},
   "outputs": [],
   "source": []
  },
  {
   "cell_type": "code",
   "execution_count": null,
   "id": "f0a8d748",
   "metadata": {},
   "outputs": [],
   "source": []
  }
 ],
 "metadata": {
  "kernelspec": {
   "display_name": "Python 3",
   "language": "python",
   "name": "python3"
  },
  "language_info": {
   "codemirror_mode": {
    "name": "ipython",
    "version": 3
   },
   "file_extension": ".py",
   "mimetype": "text/x-python",
   "name": "python",
   "nbconvert_exporter": "python",
   "pygments_lexer": "ipython3",
   "version": "3.8.8"
  }
 },
 "nbformat": 4,
 "nbformat_minor": 5
}
