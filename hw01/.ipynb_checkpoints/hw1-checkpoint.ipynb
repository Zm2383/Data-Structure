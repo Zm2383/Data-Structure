{
 "cells": [
  {
   "cell_type": "markdown",
   "id": "bf833512",
   "metadata": {},
   "source": [
    "# 1. Create a Jupyter Notebook\n",
    "\n",
    "## Create a jupyter notebook. Give it a proper structure by using markdown headings to separate the questions. Link your favorite data science blog and insert a picture of the blog logo. \n",
    "\n",
    "### my favorite blog\n",
    "https://www.datasciencecentral.com/\n",
    "### picture of the logo\n",
    "![TT Data Science Center logo 2](image/download.png)"
   ]
  },
  {
   "cell_type": "code",
   "execution_count": 1,
   "id": "11adc9a4",
   "metadata": {},
   "outputs": [
    {
     "name": "stdout",
     "output_type": "stream",
     "text": [
      "/bin/bash: -c: line 0: syntax error near unexpected token `hw1/image/TT'\r\n",
      "/bin/bash: -c: line 0: `[title](hw1/image/TT Data Science Center logo 2.png)'\r\n"
     ]
    }
   ],
   "source": [
    "![title](hw1/image/TT Data Science Center logo 2.png)"
   ]
  },
  {
   "cell_type": "markdown",
   "id": "80ff1ef8",
   "metadata": {},
   "source": [
    "# 2. Markdown quote\n",
    "\n",
    "## Using markdown, add an inspiring quote formatted as a block quote and the origin of the quote in italics.\n",
    "\n",
    ">That proves that there is no doubt about the penetration, popularity, and parity enjoyed by online activities when compared to its offline counterparts. In this discussion, we will be touching upon the latest web development trends to pop up in 2021. Any consumer facing technology demands to be chiseled down by trends to make and actual market impact. This drives adoption. This also helps the business to stay relevant and competitive in this dynamic landscape.\n",
    "\n",
    "*https://www.datasciencecentral.com/profiles/blogs/5-web-development-trends-to-rule-2021*"
   ]
  },
  {
   "cell_type": "markdown",
   "id": "055598c0",
   "metadata": {},
   "source": [
    "# 3. Latex formula and plot\n",
    "\n",
    "## Create a series `x` of range 0 to 1000 and a series `y` which is any non-linear function of x (Hint: if you cant' think of a fun formula, stick with the quadratic function). Use the plotting package of your choice to graph the function. Add the latex formula of the function you plotted in the text below."
   ]
  },
  {
   "cell_type": "code",
   "execution_count": 7,
   "id": "08d6f5f0",
   "metadata": {},
   "outputs": [
    {
     "data": {
      "image/png": "[encoded data removed]",
      "text/plain": [
       "<Figure size 432x288 with 1 Axes>"
      ]
     },
     "metadata": {
      "needs_background": "light"
     },
     "output_type": "display_data"
    }
   ],
   "source": [
    "import matplotlib.pyplot as plt\n",
    "import numpy as np\n",
    "x = np.arange(0,1001,1)\n",
    "y= x**0.5+5\n",
    "\n",
    "plt.plot(x,y)\n",
    "plt.ylabel(\"y = x^0.5+5\")\n",
    "plt.show()"
   ]
  },
  {
   "cell_type": "markdown",
   "id": "ff5e6bfa",
   "metadata": {},
   "source": [
    "# 4. Markdown table\n",
    "\n",
    "## Add a markdown table that lists 5 useful python packages (of your choice) in the first column and the associated number of github stars (as a a measure of their popularity) in the second column.\n",
    "\n",
    "| Packages | Github Stars | \n",
    "| --- | --- |\n",
    "|Numpy|16.8k|\n",
    "|Pandas|31.1k|\n",
    "|Matplotlib|14.3k|\n",
    "|Scikit-Learn|47.3k|\n",
    "|Seaborn|8.8k|"
   ]
  },
  {
   "cell_type": "markdown",
   "id": "0edfe8c9",
   "metadata": {},
   "source": [
    "# 5. Execute shell command\n",
    "\n",
    "## From your notebook, execute a bash command that shows what your current working directory is (Note: I did not show the specific command in lecture -- I want you to engage with bash a tiny bit to find it.)"
   ]
  },
  {
   "cell_type": "code",
   "execution_count": 9,
   "id": "129b5e81",
   "metadata": {},
   "outputs": [
    {
     "name": "stdout",
     "output_type": "stream",
     "text": [
      "/Users/apple/Documents/GitHub/Zhenwei_Ma/hw01\r\n"
     ]
    }
   ],
   "source": [
    "!pwd"
   ]
  },
  {
   "cell_type": "markdown",
   "id": "90bfd5a1",
   "metadata": {},
   "source": [
    "# 6. Run some external script\n",
    "\n",
    "## In your homework folder, create a separate python script that does nothing but print `The answer is 42.`\n",
    "\n"
   ]
  },
  {
   "cell_type": "code",
   "execution_count": 7,
   "id": "33f1a788",
   "metadata": {},
   "outputs": [
    {
     "name": "stdout",
     "output_type": "stream",
     "text": [
      "The answer is 42.\n"
     ]
    }
   ],
   "source": [
    "# %load answer 42.py\n",
    "print(\"The answer is 42.\")\n"
   ]
  },
  {
   "cell_type": "code",
   "execution_count": null,
   "id": "8eb11ebf",
   "metadata": {},
   "outputs": [],
   "source": []
  }
 ],
 "metadata": {
  "kernelspec": {
   "display_name": "Python 3",
   "language": "python",
   "name": "python3"
  },
  "language_info": {
   "codemirror_mode": {
    "name": "ipython",
    "version": 3
   },
   "file_extension": ".py",
   "mimetype": "text/x-python",
   "name": "python",
   "nbconvert_exporter": "python",
   "pygments_lexer": "ipython3",
   "version": "3.8.8"
  }
 },
 "nbformat": 4,
 "nbformat_minor": 5
}
