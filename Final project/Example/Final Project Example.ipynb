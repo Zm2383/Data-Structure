{
 "cells": [
  {
   "cell_type": "code",
   "execution_count": 1,
   "id": "505aa6fe",
   "metadata": {},
   "outputs": [
    {
     "name": "stdout",
     "output_type": "stream",
     "text": [
      "Looking in indexes: https://test.pypi.org/simple/\r\n",
      "Requirement already satisfied: wi-zm2383 in /Users/apple/opt/anaconda3/lib/python3.8/site-packages (0.1.2)\r\n"
     ]
    }
   ],
   "source": [
    "!pip install -i https://test.pypi.org/simple/ wi-zm2383"
   ]
  },
  {
   "cell_type": "code",
   "execution_count": 2,
   "id": "397684a5",
   "metadata": {},
   "outputs": [],
   "source": [
    "from wi_zm2383 import wi_zm2383"
   ]
  },
  {
   "cell_type": "markdown",
   "id": "7c414e71",
   "metadata": {},
   "source": [
    "## Get weather information"
   ]
  },
  {
   "cell_type": "code",
   "execution_count": 3,
   "id": "13eee3ec",
   "metadata": {},
   "outputs": [
    {
     "data": {
      "text/plain": [
       "(200,\n",
       "       temp  feels_like  temp_min  temp_max  pressure  sea_level  grnd_level  \\\n",
       " 0   281.03      280.15    281.03    281.93      1022       1022        1016   \n",
       " 1   282.01      280.79    282.01    282.73      1022       1022        1017   \n",
       " 2   284.80      283.09    284.80    284.80      1019       1019        1014   \n",
       " 3   286.06      284.48    286.06    286.06      1017       1017        1012   \n",
       " 4   285.36      283.81    285.36    285.36      1016       1016        1011   \n",
       " 5   285.50      284.17    285.50    285.50      1014       1014        1009   \n",
       " 6   284.46      283.03    284.46    284.46      1011       1011        1006   \n",
       " 7   283.84      282.37    283.84    283.84      1008       1008        1003   \n",
       " 8   282.56      280.83    282.56    282.56      1004       1004         999   \n",
       " 9   280.93      277.37    280.93    280.93      1001       1001         996   \n",
       " 10  285.05      283.91    285.05    285.05      1000       1000         995   \n",
       " 11  285.05      284.02    285.05    285.05       999        999         994   \n",
       " 12  284.92      284.01    284.92    284.92       998        998         993   \n",
       " 13  284.12      282.03    284.12    284.12      1000       1000         995   \n",
       " 14  280.22      275.76    280.22    280.22      1004       1004         999   \n",
       " 15  277.79      272.08    277.79    277.79      1009       1009        1004   \n",
       " 16  277.04      271.56    277.04    277.04      1012       1012        1007   \n",
       " 17  277.73      272.55    277.73    277.73      1015       1015        1010   \n",
       " 18  279.64      275.33    279.64    279.64      1015       1015        1010   \n",
       " 19  280.23      276.74    280.23    280.23      1016       1016        1011   \n",
       " 20  278.59      274.54    278.59    278.59      1018       1018        1012   \n",
       " 21  278.01      275.35    278.01    278.01      1018       1018        1013   \n",
       " 22  277.94      277.94    277.94    277.94      1018       1018        1013   \n",
       " 23  277.62      277.62    277.62    277.62      1017       1017        1011   \n",
       " 24  276.74      276.74    276.74    276.74      1016       1016        1010   \n",
       " 25  278.29      276.63    278.29    278.29      1014       1014        1009   \n",
       " 26  280.79      279.72    280.79    280.79      1012       1012        1007   \n",
       " 27  282.22      281.26    282.22    282.22      1013       1013        1007   \n",
       " 28  282.11      282.11    282.11    282.11      1014       1014        1009   \n",
       " 29  281.49      281.49    281.49    281.49      1014       1014        1009   \n",
       " 30  280.63      280.63    280.63    280.63      1013       1013        1008   \n",
       " 31  279.14      276.80    279.14    279.14      1012       1012        1007   \n",
       " 32  278.55      276.50    278.55    278.55      1013       1013        1008   \n",
       " 33  280.24      279.40    280.24    280.24      1014       1014        1009   \n",
       " 34  283.37      281.23    283.37    283.37      1013       1013        1008   \n",
       " 35  284.20      282.25    284.20    284.20      1013       1013        1008   \n",
       " 36  283.47      281.71    283.47    283.47      1014       1014        1009   \n",
       " 37  282.74      282.74    282.74    282.74      1014       1014        1009   \n",
       " 38  281.55      280.16    281.55    281.55      1014       1014        1009   \n",
       " 39  280.23      277.85    280.23    280.23      1014       1014        1009   \n",
       " \n",
       "     humidity  temp_kf                 Time  \n",
       " 0         64    -0.90  2021-12-15 21:00:00  \n",
       " 1         55    -0.72  2021-12-16 00:00:00  \n",
       " 2         41     0.00  2021-12-16 03:00:00  \n",
       " 3         41     0.00  2021-12-16 06:00:00  \n",
       " 4         45     0.00  2021-12-16 09:00:00  \n",
       " 5         53     0.00  2021-12-16 12:00:00  \n",
       " 6         53     0.00  2021-12-16 15:00:00  \n",
       " 7         54     0.00  2021-12-16 18:00:00  \n",
       " 8         66     0.00  2021-12-16 21:00:00  \n",
       " 9         84     0.00  2021-12-17 00:00:00  \n",
       " 10        62     0.00  2021-12-17 03:00:00  \n",
       " 11        66     0.00  2021-12-17 06:00:00  \n",
       " 12        71     0.00  2021-12-17 09:00:00  \n",
       " 13        29     0.00  2021-12-17 12:00:00  \n",
       " 14        36     0.00  2021-12-17 15:00:00  \n",
       " 15        36     0.00  2021-12-17 18:00:00  \n",
       " 16        33     0.00  2021-12-17 21:00:00  \n",
       " 17        28     0.00  2021-12-18 00:00:00  \n",
       " 18        21     0.00  2021-12-18 03:00:00  \n",
       " 19        22     0.00  2021-12-18 06:00:00  \n",
       " 20        30     0.00  2021-12-18 09:00:00  \n",
       " 21        30     0.00  2021-12-18 12:00:00  \n",
       " 22        33     0.00  2021-12-18 15:00:00  \n",
       " 23        40     0.00  2021-12-18 18:00:00  \n",
       " 24        45     0.00  2021-12-18 21:00:00  \n",
       " 25        50     0.00  2021-12-19 00:00:00  \n",
       " 26        39     0.00  2021-12-19 03:00:00  \n",
       " 27        27     0.00  2021-12-19 06:00:00  \n",
       " 28        29     0.00  2021-12-19 09:00:00  \n",
       " 29        32     0.00  2021-12-19 12:00:00  \n",
       " 30        39     0.00  2021-12-19 15:00:00  \n",
       " 31        46     0.00  2021-12-19 18:00:00  \n",
       " 32        44     0.00  2021-12-19 21:00:00  \n",
       " 33        37     0.00  2021-12-20 00:00:00  \n",
       " 34        30     0.00  2021-12-20 03:00:00  \n",
       " 35        34     0.00  2021-12-20 06:00:00  \n",
       " 36        44     0.00  2021-12-20 09:00:00  \n",
       " 37        49     0.00  2021-12-20 12:00:00  \n",
       " 38        48     0.00  2021-12-20 15:00:00  \n",
       " 39        50     0.00  2021-12-20 18:00:00  )"
      ]
     },
     "execution_count": 3,
     "metadata": {},
     "output_type": "execute_result"
    }
   ],
   "source": [
    "wi_zm2383.get_temperature('Tokyo')"
   ]
  },
  {
   "cell_type": "markdown",
   "id": "c07e88df",
   "metadata": {},
   "source": [
    "## Get wind information"
   ]
  },
  {
   "cell_type": "code",
   "execution_count": 4,
   "id": "8b39e692",
   "metadata": {},
   "outputs": [
    {
     "data": {
      "text/plain": [
       "(200,\n",
       "     speed  deg   gust                 Time\n",
       " 0    1.71   28   1.79  2021-12-15 21:00:00\n",
       " 1    2.27  357   2.33  2021-12-16 00:00:00\n",
       " 2    1.19   26   0.65  2021-12-16 03:00:00\n",
       " 3    0.55   32   1.03  2021-12-16 06:00:00\n",
       " 4    1.34  128   2.36  2021-12-16 09:00:00\n",
       " 5    3.17  216   6.13  2021-12-16 12:00:00\n",
       " 6    2.97  273   6.52  2021-12-16 15:00:00\n",
       " 7    2.40  267   4.56  2021-12-16 18:00:00\n",
       " 8    3.22  329   5.46  2021-12-16 21:00:00\n",
       " 9    6.60    5  10.33  2021-12-17 00:00:00\n",
       " 10   2.58    8   4.74  2021-12-17 03:00:00\n",
       " 11   3.58  132   3.90  2021-12-17 06:00:00\n",
       " 12   2.80  195   5.74  2021-12-17 09:00:00\n",
       " 13  11.71  282  15.99  2021-12-17 12:00:00\n",
       " 14   8.89  323  12.53  2021-12-17 15:00:00\n",
       " 15  10.68  340  13.57  2021-12-17 18:00:00\n",
       " 16   9.01  332  12.10  2021-12-17 21:00:00\n",
       " 17   8.72  328   9.78  2021-12-18 00:00:00\n",
       " 18   7.77  336   9.41  2021-12-18 03:00:00\n",
       " 19   5.85  337   6.30  2021-12-18 06:00:00\n",
       " 20   6.16  355   6.02  2021-12-18 09:00:00\n",
       " 21   3.19  336   4.05  2021-12-18 12:00:00\n",
       " 22   0.55   61   2.36  2021-12-18 15:00:00\n",
       " 23   1.23   33   1.73  2021-12-18 18:00:00\n",
       " 24   0.94   27   1.10  2021-12-18 21:00:00\n",
       " 25   2.05  183   3.80  2021-12-19 00:00:00\n",
       " 26   1.87  270   2.92  2021-12-19 03:00:00\n",
       " 27   2.00   10   2.95  2021-12-19 06:00:00\n",
       " 28   0.80  110   1.32  2021-12-19 09:00:00\n",
       " 29   0.76  126   1.28  2021-12-19 12:00:00\n",
       " 30   0.89  350   2.11  2021-12-19 15:00:00\n",
       " 31   3.07  337   3.85  2021-12-19 18:00:00\n",
       " 32   2.53  333   3.98  2021-12-19 21:00:00\n",
       " 33   1.57  303   2.27  2021-12-20 00:00:00\n",
       " 34   2.60  204   2.93  2021-12-20 03:00:00\n",
       " 35   3.03  165   3.44  2021-12-20 06:00:00\n",
       " 36   2.53  171   4.13  2021-12-20 09:00:00\n",
       " 37   1.18  202   2.20  2021-12-20 12:00:00\n",
       " 38   2.39  316   3.02  2021-12-20 15:00:00\n",
       " 39   3.48  339   5.14  2021-12-20 18:00:00)"
      ]
     },
     "execution_count": 4,
     "metadata": {},
     "output_type": "execute_result"
    }
   ],
   "source": [
    "wi_zm2383.get_wind('Tokyo')"
   ]
  },
  {
   "cell_type": "markdown",
   "id": "7e510629",
   "metadata": {},
   "source": [
    "## Get wind speed chart"
   ]
  },
  {
   "cell_type": "code",
   "execution_count": 5,
   "id": "59c5f204",
   "metadata": {},
   "outputs": [
    {
     "data": {
      "text/plain": [
       "200"
      ]
     },
     "execution_count": 5,
     "metadata": {},
     "output_type": "execute_result"
    },
    {
     "data": {
      "image/png": "[encoded data removed]",
      "text/plain": [
       "<Figure size 432x288 with 1 Axes>"
      ]
     },
     "metadata": {
      "needs_background": "light"
     },
     "output_type": "display_data"
    }
   ],
   "source": [
    "wi_zm2383.get_picture('Tokyo')"
   ]
  },
  {
   "cell_type": "code",
   "execution_count": null,
   "id": "be05b28e",
   "metadata": {},
   "outputs": [],
   "source": []
  }
 ],
 "metadata": {
  "kernelspec": {
   "display_name": "Python 3",
   "language": "python",
   "name": "python3"
  },
  "language_info": {
   "codemirror_mode": {
    "name": "ipython",
    "version": 3
   },
   "file_extension": ".py",
   "mimetype": "text/x-python",
   "name": "python",
   "nbconvert_exporter": "python",
   "pygments_lexer": "ipython3",
   "version": "3.8.8"
  }
 },
 "nbformat": 4,
 "nbformat_minor": 5
}
