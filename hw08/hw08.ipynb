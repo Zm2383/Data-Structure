{
 "cells": [
  {
   "cell_type": "markdown",
   "id": "9bf66c76",
   "metadata": {},
   "source": [
    "# HW08: API\n",
    "\n",
    "# 1. Choose an API\n",
    "## a) Choose an API and briefly describe the type of data you can obtain from it.\n",
    "For this assignment, I will be using openweathermap. I can collect and process weather data from different sources such as global and local weather models, satellites, radars and a vast network of weather stations. Data is available in JSON, XML, or HTML format.\n",
    "\n",
    "\n",
    "\n",
    "## b) Provide a link to the API documentation\n",
    "This is the link to the API documentation: https://openweathermap.org/api\n",
    "\n",
    "## c) the base URL of the API you intend to use\n",
    "This is the base URL of the API:https://openweathermap.org/forecast5\n",
    "\n",
    "\n",
    "# 2. Authentication\n",
    "## a) Briefly explain how the API authenticates the user\n",
    "Just sign up with email and start using minute forecasts, hourly forecasts, history and other weather data in your applications for free. After signing up, users will get a specific email which is used to verify identity. After the verification, the exclusive API Key can be accessed via email to authenticate the user.\n",
    "\n",
    "## b) Apply for an API key if necessary and provide the information (with relevant URL) how that can be done. Do not include the API key in the assignment submission.\n",
    "The quick guide about API key application: https://openweathermap.org/appid\n",
    "\n",
    "# 3. Send a Simple GET request\n",
    "## a) Execute a simple GET request to obtain a small amount of data from the API\n"
   ]
  },
  {
   "cell_type": "code",
   "execution_count": 1,
   "id": "c73ffd28",
   "metadata": {},
   "outputs": [],
   "source": [
    "import requests\n",
    "import os\n",
    "import json"
   ]
  },
  {
   "cell_type": "code",
   "execution_count": 2,
   "id": "955fb840",
   "metadata": {},
   "outputs": [],
   "source": [
    "from dotenv import load_dotenv\n",
    "load_dotenv(dotenv_path = '/Users/apple/Documents/GitHub/Zhenwei_Ma/hw08/hw08.env')\n",
    "private_key = os.getenv('MY_ENV_VAR')"
   ]
  },
  {
   "cell_type": "code",
   "execution_count": 3,
   "id": "d7347644",
   "metadata": {},
   "outputs": [],
   "source": [
    "params={'appid':private_key,'q':'Los Angeles'}\n",
    "r = requests.get('https://api.openweathermap.org/data/2.5/forecast',params=params)"
   ]
  },
  {
   "cell_type": "code",
   "execution_count": 4,
   "id": "0d8dc2d7",
   "metadata": {},
   "outputs": [
    {
     "name": "stdout",
     "output_type": "stream",
     "text": [
      "{\n",
      "  \"cod\": 401,\n",
      "  \"message\": \"Invalid API key. Please see http://openweathermap.org/faq#error401 for more info.\"\n",
      "}\n"
     ]
    }
   ],
   "source": [
    "print(json.dumps(r.json(), indent=2,sort_keys= True))"
   ]
  },
  {
   "cell_type": "markdown",
   "id": "87be677a",
   "metadata": {},
   "source": [
    "## b) Check (and show) the status of the request"
   ]
  },
  {
   "cell_type": "code",
   "execution_count": 231,
   "id": "b179286f",
   "metadata": {},
   "outputs": [
    {
     "data": {
      "text/plain": [
       "200"
      ]
     },
     "execution_count": 231,
     "metadata": {},
     "output_type": "execute_result"
    }
   ],
   "source": [
    "r.status_code"
   ]
  },
  {
   "cell_type": "markdown",
   "id": "7d032be4",
   "metadata": {},
   "source": [
    "## c) Check (and show) the type of the response (e.g. XML, JSON, csv)"
   ]
  },
  {
   "cell_type": "code",
   "execution_count": 232,
   "id": "6d0187bc",
   "metadata": {},
   "outputs": [
    {
     "data": {
      "text/plain": [
       "'application/json; charset=utf-8'"
      ]
     },
     "execution_count": 232,
     "metadata": {},
     "output_type": "execute_result"
    }
   ],
   "source": [
    "r.headers['content-type']"
   ]
  },
  {
   "cell_type": "markdown",
   "id": "79ddd547",
   "metadata": {},
   "source": [
    "# 4. Parse the response and Create a dataset\n",
    "## a) Take the response returned by the API and turn it into a useful Python object (e.g. a list, vector, or pandas data frame). Show the code how this is done."
   ]
  },
  {
   "cell_type": "code",
   "execution_count": 237,
   "id": "8335cc4e",
   "metadata": {},
   "outputs": [
    {
     "name": "stdout",
     "output_type": "stream",
     "text": [
      "<class 'dict'>\n",
      "dict_keys(['cod', 'message', 'cnt', 'list', 'city'])\n"
     ]
    }
   ],
   "source": [
    "import pandas as pd\n",
    "weather_LA = r.json()\n",
    "print(type(weather_LA))  # dictionary\n",
    "print(weather_LA.keys()) # keys\n"
   ]
  },
  {
   "cell_type": "code",
   "execution_count": 243,
   "id": "81c8cfcb",
   "metadata": {},
   "outputs": [],
   "source": [
    "weather_LA_df = pd.DataFrame(weather_LA['list'])\n"
   ]
  },
  {
   "cell_type": "code",
   "execution_count": 244,
   "id": "ff51454f",
   "metadata": {},
   "outputs": [
    {
     "data": {
      "text/html": [
       "<div>\n",
       "<style scoped>\n",
       "    .dataframe tbody tr th:only-of-type {\n",
       "        vertical-align: middle;\n",
       "    }\n",
       "\n",
       "    .dataframe tbody tr th {\n",
       "        vertical-align: top;\n",
       "    }\n",
       "\n",
       "    .dataframe thead th {\n",
       "        text-align: right;\n",
       "    }\n",
       "</style>\n",
       "<table border=\"1\" class=\"dataframe\">\n",
       "  <thead>\n",
       "    <tr style=\"text-align: right;\">\n",
       "      <th></th>\n",
       "      <th>dt</th>\n",
       "      <th>main</th>\n",
       "      <th>weather</th>\n",
       "      <th>clouds</th>\n",
       "      <th>wind</th>\n",
       "      <th>visibility</th>\n",
       "      <th>pop</th>\n",
       "      <th>sys</th>\n",
       "      <th>dt_txt</th>\n",
       "    </tr>\n",
       "  </thead>\n",
       "  <tbody>\n",
       "    <tr>\n",
       "      <th>0</th>\n",
       "      <td>1637161200</td>\n",
       "      <td>{'temp': 286.16, 'feels_like': 285.74, 'temp_m...</td>\n",
       "      <td>[{'id': 800, 'main': 'Clear', 'description': '...</td>\n",
       "      <td>{'all': 1}</td>\n",
       "      <td>{'speed': 0.36, 'deg': 185, 'gust': 0.64}</td>\n",
       "      <td>10000</td>\n",
       "      <td>0</td>\n",
       "      <td>{'pod': 'd'}</td>\n",
       "      <td>2021-11-17 15:00:00</td>\n",
       "    </tr>\n",
       "    <tr>\n",
       "      <th>1</th>\n",
       "      <td>1637172000</td>\n",
       "      <td>{'temp': 288.12, 'feels_like': 287.63, 'temp_m...</td>\n",
       "      <td>[{'id': 801, 'main': 'Clouds', 'description': ...</td>\n",
       "      <td>{'all': 19}</td>\n",
       "      <td>{'speed': 1.3, 'deg': 195, 'gust': 0.85}</td>\n",
       "      <td>10000</td>\n",
       "      <td>0</td>\n",
       "      <td>{'pod': 'd'}</td>\n",
       "      <td>2021-11-17 18:00:00</td>\n",
       "    </tr>\n",
       "    <tr>\n",
       "      <th>2</th>\n",
       "      <td>1637182800</td>\n",
       "      <td>{'temp': 291.95, 'feels_like': 291.4, 'temp_mi...</td>\n",
       "      <td>[{'id': 801, 'main': 'Clouds', 'description': ...</td>\n",
       "      <td>{'all': 22}</td>\n",
       "      <td>{'speed': 2.5, 'deg': 230, 'gust': 1.57}</td>\n",
       "      <td>10000</td>\n",
       "      <td>0</td>\n",
       "      <td>{'pod': 'd'}</td>\n",
       "      <td>2021-11-17 21:00:00</td>\n",
       "    </tr>\n",
       "    <tr>\n",
       "      <th>3</th>\n",
       "      <td>1637193600</td>\n",
       "      <td>{'temp': 292.96, 'feels_like': 292.41, 'temp_m...</td>\n",
       "      <td>[{'id': 801, 'main': 'Clouds', 'description': ...</td>\n",
       "      <td>{'all': 19}</td>\n",
       "      <td>{'speed': 3.03, 'deg': 242, 'gust': 2.4}</td>\n",
       "      <td>10000</td>\n",
       "      <td>0</td>\n",
       "      <td>{'pod': 'd'}</td>\n",
       "      <td>2021-11-18 00:00:00</td>\n",
       "    </tr>\n",
       "    <tr>\n",
       "      <th>4</th>\n",
       "      <td>1637204400</td>\n",
       "      <td>{'temp': 291.07, 'feels_like': 290.48, 'temp_m...</td>\n",
       "      <td>[{'id': 802, 'main': 'Clouds', 'description': ...</td>\n",
       "      <td>{'all': 46}</td>\n",
       "      <td>{'speed': 1.63, 'deg': 244, 'gust': 1.83}</td>\n",
       "      <td>10000</td>\n",
       "      <td>0</td>\n",
       "      <td>{'pod': 'n'}</td>\n",
       "      <td>2021-11-18 03:00:00</td>\n",
       "    </tr>\n",
       "  </tbody>\n",
       "</table>\n",
       "</div>"
      ],
      "text/plain": [
       "           dt                                               main  \\\n",
       "0  1637161200  {'temp': 286.16, 'feels_like': 285.74, 'temp_m...   \n",
       "1  1637172000  {'temp': 288.12, 'feels_like': 287.63, 'temp_m...   \n",
       "2  1637182800  {'temp': 291.95, 'feels_like': 291.4, 'temp_mi...   \n",
       "3  1637193600  {'temp': 292.96, 'feels_like': 292.41, 'temp_m...   \n",
       "4  1637204400  {'temp': 291.07, 'feels_like': 290.48, 'temp_m...   \n",
       "\n",
       "                                             weather       clouds  \\\n",
       "0  [{'id': 800, 'main': 'Clear', 'description': '...   {'all': 1}   \n",
       "1  [{'id': 801, 'main': 'Clouds', 'description': ...  {'all': 19}   \n",
       "2  [{'id': 801, 'main': 'Clouds', 'description': ...  {'all': 22}   \n",
       "3  [{'id': 801, 'main': 'Clouds', 'description': ...  {'all': 19}   \n",
       "4  [{'id': 802, 'main': 'Clouds', 'description': ...  {'all': 46}   \n",
       "\n",
       "                                        wind  visibility  pop           sys  \\\n",
       "0  {'speed': 0.36, 'deg': 185, 'gust': 0.64}       10000    0  {'pod': 'd'}   \n",
       "1   {'speed': 1.3, 'deg': 195, 'gust': 0.85}       10000    0  {'pod': 'd'}   \n",
       "2   {'speed': 2.5, 'deg': 230, 'gust': 1.57}       10000    0  {'pod': 'd'}   \n",
       "3   {'speed': 3.03, 'deg': 242, 'gust': 2.4}       10000    0  {'pod': 'd'}   \n",
       "4  {'speed': 1.63, 'deg': 244, 'gust': 1.83}       10000    0  {'pod': 'n'}   \n",
       "\n",
       "                dt_txt  \n",
       "0  2021-11-17 15:00:00  \n",
       "1  2021-11-17 18:00:00  \n",
       "2  2021-11-17 21:00:00  \n",
       "3  2021-11-18 00:00:00  \n",
       "4  2021-11-18 03:00:00  "
      ]
     },
     "execution_count": 244,
     "metadata": {},
     "output_type": "execute_result"
    }
   ],
   "source": [
    "weather_LA_df.head()"
   ]
  },
  {
   "cell_type": "code",
   "execution_count": 246,
   "id": "89424a61",
   "metadata": {},
   "outputs": [
    {
     "name": "stdout",
     "output_type": "stream",
     "text": [
      "{\n",
      "    \"deg\": 185,\n",
      "    \"gust\": 0.64,\n",
      "    \"speed\": 0.36\n",
      "}\n"
     ]
    }
   ],
   "source": [
    "print(json.dumps(weather_LA['list'][0]['wind'], indent=4, sort_keys=True))"
   ]
  },
  {
   "cell_type": "code",
   "execution_count": 248,
   "id": "0d2dce12",
   "metadata": {},
   "outputs": [
    {
     "data": {
      "text/html": [
       "<div>\n",
       "<style scoped>\n",
       "    .dataframe tbody tr th:only-of-type {\n",
       "        vertical-align: middle;\n",
       "    }\n",
       "\n",
       "    .dataframe tbody tr th {\n",
       "        vertical-align: top;\n",
       "    }\n",
       "\n",
       "    .dataframe thead th {\n",
       "        text-align: right;\n",
       "    }\n",
       "</style>\n",
       "<table border=\"1\" class=\"dataframe\">\n",
       "  <thead>\n",
       "    <tr style=\"text-align: right;\">\n",
       "      <th></th>\n",
       "      <th>speed</th>\n",
       "      <th>deg</th>\n",
       "      <th>gust</th>\n",
       "    </tr>\n",
       "  </thead>\n",
       "  <tbody>\n",
       "    <tr>\n",
       "      <th>1</th>\n",
       "      <td>0.36</td>\n",
       "      <td>185</td>\n",
       "      <td>0.64</td>\n",
       "    </tr>\n",
       "  </tbody>\n",
       "</table>\n",
       "</div>"
      ],
      "text/plain": [
       "   speed  deg  gust\n",
       "1   0.36  185  0.64"
      ]
     },
     "execution_count": 248,
     "metadata": {},
     "output_type": "execute_result"
    }
   ],
   "source": [
    "sample_df = pd.DataFrame(weather_LA['list'][0]['wind'], index = [1])\n",
    "sample_df.head()"
   ]
  },
  {
   "cell_type": "markdown",
   "id": "ada51c13",
   "metadata": {},
   "source": [
    "## b) Using the API, create a dataset (in data frame format) for multiple records. I'd say a sample size greater than 100 is sufficient for the example but feel free to get more data if you feel ambitious and the API allows you to do that fairly easily. The dataset can include only a small subset of the returned data. Just choose some interesting features. There is no need to be inclusive here."
   ]
  },
  {
   "cell_type": "code",
   "execution_count": 250,
   "id": "3153dd7d",
   "metadata": {},
   "outputs": [
    {
     "name": "stdout",
     "output_type": "stream",
     "text": [
      "dt\n",
      "main\n",
      "weather\n",
      "clouds\n",
      "wind\n",
      "visibility\n",
      "pop\n",
      "sys\n",
      "dt_txt\n"
     ]
    }
   ],
   "source": [
    "for col in weather_LA_df.columns:\n",
    "   print(col)"
   ]
  },
  {
   "cell_type": "code",
   "execution_count": 5,
   "id": "c752f309",
   "metadata": {},
   "outputs": [
    {
     "ename": "NameError",
     "evalue": "name 'pd' is not defined",
     "output_type": "error",
     "traceback": [
      "\u001b[0;31m---------------------------------------------------------------------------\u001b[0m",
      "\u001b[0;31mNameError\u001b[0m                                 Traceback (most recent call last)",
      "\u001b[0;32m<ipython-input-5-c1e216b82f71>\u001b[0m in \u001b[0;36m<module>\u001b[0;34m\u001b[0m\n\u001b[0;32m----> 1\u001b[0;31m \u001b[0mdf\u001b[0m \u001b[0;34m=\u001b[0m \u001b[0mpd\u001b[0m\u001b[0;34m.\u001b[0m\u001b[0mDataFrame\u001b[0m\u001b[0;34m(\u001b[0m\u001b[0;34m)\u001b[0m\u001b[0;34m\u001b[0m\u001b[0;34m\u001b[0m\u001b[0m\n\u001b[0m\u001b[1;32m      2\u001b[0m \u001b[0ms\u001b[0m \u001b[0;34m=\u001b[0m \u001b[0;36m0\u001b[0m\u001b[0;34m\u001b[0m\u001b[0;34m\u001b[0m\u001b[0m\n\u001b[1;32m      3\u001b[0m \u001b[0;32mfor\u001b[0m \u001b[0ms\u001b[0m \u001b[0;32min\u001b[0m \u001b[0mrange\u001b[0m\u001b[0;34m(\u001b[0m\u001b[0mlen\u001b[0m\u001b[0;34m(\u001b[0m\u001b[0mweather_LA\u001b[0m\u001b[0;34m[\u001b[0m\u001b[0;34m'list'\u001b[0m\u001b[0;34m]\u001b[0m\u001b[0;34m)\u001b[0m\u001b[0;34m)\u001b[0m\u001b[0;34m:\u001b[0m\u001b[0;34m\u001b[0m\u001b[0;34m\u001b[0m\u001b[0m\n\u001b[1;32m      4\u001b[0m     \u001b[0mwind\u001b[0m \u001b[0;34m=\u001b[0m \u001b[0mpd\u001b[0m\u001b[0;34m.\u001b[0m\u001b[0mDataFrame\u001b[0m\u001b[0;34m(\u001b[0m\u001b[0mweather_LA\u001b[0m\u001b[0;34m[\u001b[0m\u001b[0;34m'list'\u001b[0m\u001b[0;34m]\u001b[0m\u001b[0;34m[\u001b[0m\u001b[0ms\u001b[0m\u001b[0;34m]\u001b[0m\u001b[0;34m[\u001b[0m\u001b[0;34m'wind'\u001b[0m\u001b[0;34m]\u001b[0m\u001b[0;34m,\u001b[0m \u001b[0mindex\u001b[0m \u001b[0;34m=\u001b[0m \u001b[0;34m[\u001b[0m\u001b[0ms\u001b[0m\u001b[0;34m]\u001b[0m\u001b[0;34m)\u001b[0m\u001b[0;34m\u001b[0m\u001b[0;34m\u001b[0m\u001b[0m\n\u001b[1;32m      5\u001b[0m     \u001b[0mdf\u001b[0m \u001b[0;34m=\u001b[0m \u001b[0mpd\u001b[0m\u001b[0;34m.\u001b[0m\u001b[0mconcat\u001b[0m\u001b[0;34m(\u001b[0m\u001b[0;34m[\u001b[0m\u001b[0mdf\u001b[0m\u001b[0;34m,\u001b[0m \u001b[0mwind\u001b[0m\u001b[0;34m]\u001b[0m\u001b[0;34m)\u001b[0m\u001b[0;34m\u001b[0m\u001b[0;34m\u001b[0m\u001b[0m\n",
      "\u001b[0;31mNameError\u001b[0m: name 'pd' is not defined"
     ]
    }
   ],
   "source": [
    "df = pd.DataFrame()\n",
    "s = 0\n",
    "for s in range(len(weather_LA['list'])):\n",
    "    wind = pd.DataFrame(weather_LA['list'][s]['wind'], index = [s])\n",
    "    df = pd.concat([df, wind])\n",
    "    s = s + 1\n",
    "\n",
    "df2 = pd.DataFrame()\n",
    "t = 0\n",
    "for t in range(len(weather_LA['list'])):\n",
    "    time = pd.Series(weather_LA['list'][t]['dt_txt'], index = [t])\n",
    "    time = pd.DataFrame(time)\n",
    "    df2 = pd.concat([df2, time])\n",
    "    t = t + 1\n",
    "df2.columns = ['Time']\n",
    "\n",
    "df = pd.concat([df, df2], axis=1)\n",
    "df.head()  "
   ]
  },
  {
   "cell_type": "code",
   "execution_count": null,
   "id": "fb424423",
   "metadata": {},
   "outputs": [],
   "source": []
  },
  {
   "cell_type": "markdown",
   "id": "a3b793f8",
   "metadata": {},
   "source": [
    "## c) Provide some summary statistics of the data. Include the data frame in a .csv file called data.csv with your submission for the grader."
   ]
  },
  {
   "cell_type": "code",
   "execution_count": 255,
   "id": "380faf9b",
   "metadata": {},
   "outputs": [
    {
     "data": {
      "text/html": [
       "<div>\n",
       "<style scoped>\n",
       "    .dataframe tbody tr th:only-of-type {\n",
       "        vertical-align: middle;\n",
       "    }\n",
       "\n",
       "    .dataframe tbody tr th {\n",
       "        vertical-align: top;\n",
       "    }\n",
       "\n",
       "    .dataframe thead th {\n",
       "        text-align: right;\n",
       "    }\n",
       "</style>\n",
       "<table border=\"1\" class=\"dataframe\">\n",
       "  <thead>\n",
       "    <tr style=\"text-align: right;\">\n",
       "      <th></th>\n",
       "      <th>speed</th>\n",
       "      <th>deg</th>\n",
       "      <th>gust</th>\n",
       "    </tr>\n",
       "  </thead>\n",
       "  <tbody>\n",
       "    <tr>\n",
       "      <th>count</th>\n",
       "      <td>40.000000</td>\n",
       "      <td>40.000000</td>\n",
       "      <td>40.000000</td>\n",
       "    </tr>\n",
       "    <tr>\n",
       "      <th>mean</th>\n",
       "      <td>1.414750</td>\n",
       "      <td>166.125000</td>\n",
       "      <td>1.516250</td>\n",
       "    </tr>\n",
       "    <tr>\n",
       "      <th>std</th>\n",
       "      <td>0.874044</td>\n",
       "      <td>93.477047</td>\n",
       "      <td>0.759604</td>\n",
       "    </tr>\n",
       "    <tr>\n",
       "      <th>min</th>\n",
       "      <td>0.170000</td>\n",
       "      <td>1.000000</td>\n",
       "      <td>0.400000</td>\n",
       "    </tr>\n",
       "    <tr>\n",
       "      <th>25%</th>\n",
       "      <td>0.647500</td>\n",
       "      <td>100.250000</td>\n",
       "      <td>0.900000</td>\n",
       "    </tr>\n",
       "    <tr>\n",
       "      <th>50%</th>\n",
       "      <td>1.210000</td>\n",
       "      <td>216.500000</td>\n",
       "      <td>1.305000</td>\n",
       "    </tr>\n",
       "    <tr>\n",
       "      <th>75%</th>\n",
       "      <td>2.250000</td>\n",
       "      <td>232.250000</td>\n",
       "      <td>2.102500</td>\n",
       "    </tr>\n",
       "    <tr>\n",
       "      <th>max</th>\n",
       "      <td>3.030000</td>\n",
       "      <td>298.000000</td>\n",
       "      <td>3.430000</td>\n",
       "    </tr>\n",
       "  </tbody>\n",
       "</table>\n",
       "</div>"
      ],
      "text/plain": [
       "           speed         deg       gust\n",
       "count  40.000000   40.000000  40.000000\n",
       "mean    1.414750  166.125000   1.516250\n",
       "std     0.874044   93.477047   0.759604\n",
       "min     0.170000    1.000000   0.400000\n",
       "25%     0.647500  100.250000   0.900000\n",
       "50%     1.210000  216.500000   1.305000\n",
       "75%     2.250000  232.250000   2.102500\n",
       "max     3.030000  298.000000   3.430000"
      ]
     },
     "execution_count": 255,
     "metadata": {},
     "output_type": "execute_result"
    }
   ],
   "source": [
    "df.describe()"
   ]
  },
  {
   "cell_type": "code",
   "execution_count": 256,
   "id": "c515c1cb",
   "metadata": {},
   "outputs": [],
   "source": [
    "df.to_csv('data.csv')"
   ]
  },
  {
   "cell_type": "markdown",
   "id": "067017da",
   "metadata": {},
   "source": [
    "# 5. API Client\n",
    "## a) API client function"
   ]
  },
  {
   "cell_type": "code",
   "execution_count": 258,
   "id": "d5e0a265",
   "metadata": {},
   "outputs": [],
   "source": [
    "def API_Client(appid, city = 'Los Angeles'):\n",
    "    \"\"\"\n",
    "    The function can help collect 5 day / 3 hour forecast weather data for a specified city.\n",
    "    \n",
    "    Parameters\n",
    "    ----------\n",
    "    appid: str\n",
    "        The API key which can be acquired by signing up on the website.\n",
    "    city: str\n",
    "        The specific city for which you want to predict weather data.\n",
    "        \n",
    "    Returns\n",
    "    -------\n",
    "    status: int\n",
    "        The status codes show the HTTP status, 1XX means Informational, 2XX means Success which is what we want, 3XX means Redirection, 4XX means Client Error, 5XX means Server Error\n",
    "    df: DataFrame\n",
    "        The dataframe shows wind data 5 day / 3 hour for a specific city\n",
    "    \n",
    "    Examples\n",
    "    --------\n",
    "    >>> import API_Client\n",
    "    >>> a = wea_api_key\n",
    "    >>> b = 'Tokyo'\n",
    "    >>> API_Client(a, b)\n",
    "    (200,\n",
    "     speed  deg  gust                 Time\n",
    " 0    0.36  185  0.64  2021-11-17 15:00:00\n",
    " 1    1.30  195  0.85  2021-11-17 18:00:00\n",
    " 2    2.50  230  1.57  2021-11-17 21:00:00\n",
    " 3    3.03  242  2.40  2021-11-18 00:00:00\n",
    " 4    1.63  244  1.83  2021-11-18 03:00:00\n",
    " 5    0.62  223  1.13  2021-11-18 06:00:00\n",
    " 6    1.65  256  2.21  2021-11-18 09:00:00\n",
    " 7    0.17  170  0.80  2021-11-18 12:00:00\n",
    " 8    0.60  233  1.03  2021-11-18 15:00:00\n",
    " 9    1.59  214  1.05  2021-11-18 18:00:00\n",
    " 10   2.31  228  1.48  2021-11-18 21:00:00\n",
    " 11   2.56  241  2.11  2021-11-19 00:00:00\n",
    " 12   1.19  223  1.61  2021-11-19 03:00:00\n",
    " 13   0.93  232  1.24  2021-11-19 06:00:00\n",
    " 14   0.38  241  0.77  2021-11-19 09:00:00\n",
    " 15   0.52  219  0.81  2021-11-19 12:00:00\n",
    " 16   0.35  229  0.79  2021-11-19 15:00:00\n",
    " 17   1.07  179  0.90  2021-11-19 18:00:00\n",
    " 18   1.65  234  1.05  2021-11-19 21:00:00\n",
    " 19   2.23  239  1.98  2021-11-20 00:00:00\n",
    " 20   0.96  229  1.35  2021-11-20 03:00:00\n",
    " 21   0.65  170  0.95  2021-11-20 06:00:00\n",
    " 22   0.64  110  0.72  2021-11-20 09:00:00\n",
    " 23   0.36  109  0.52  2021-11-20 12:00:00\n",
    " 24   0.17   74  0.40  2021-11-20 15:00:00\n",
    " 25   1.23  214  0.96  2021-11-20 18:00:00\n",
    " 26   2.15  223  1.24  2021-11-20 21:00:00\n",
    " 27   2.34  229  1.28  2021-11-21 00:00:00\n",
    " 28   1.35  265  2.22  2021-11-21 03:00:00\n",
    " 29   0.78   11  0.90  2021-11-21 06:00:00\n",
    " 30   1.07    1  1.33  2021-11-21 09:00:00\n",
    " 31   2.09   14  2.16  2021-11-21 12:00:00\n",
    " 32   2.45   19  2.50  2021-11-21 15:00:00\n",
    " 33   1.17   23  2.10  2021-11-21 18:00:00\n",
    " 34   0.67  146  1.86  2021-11-21 21:00:00\n",
    " 35   0.88  298  1.80  2021-11-22 00:00:00\n",
    " 36   3.01   19  3.43  2021-11-22 03:00:00\n",
    " 37   2.77   12  3.19  2021-11-22 06:00:00\n",
    " 38   2.67   18  2.75  2021-11-22 09:00:00\n",
    " 39   2.54    4  2.74  2021-11-22 12:00:00)\n",
    "\n",
    "    \"\"\"\n",
    "    params = {'appid':appid, 'q': city}\n",
    "    r = requests.get('https://api.openweathermap.org/data/2.5/forecast', params = params)\n",
    "    status = r.status_code\n",
    "    \n",
    "    df = pd.DataFrame()\n",
    "    s = 0\n",
    "    for s in range(len(weather_LA['list'])):\n",
    "        wind = pd.DataFrame(weather_LA['list'][s]['wind'], index = [s])\n",
    "        df = pd.concat([df, wind])\n",
    "        s = s + 1\n",
    "\n",
    "    df2 = pd.DataFrame()\n",
    "    t = 0\n",
    "    for t in range(len(weather_LA['list'])):\n",
    "        time = pd.Series(weather_LA['list'][t]['dt_txt'], index = [t])\n",
    "        time = pd.DataFrame(time)\n",
    "        df2 = pd.concat([df2, time])\n",
    "        t = t + 1\n",
    "    df2.columns = ['Time']\n",
    "\n",
    "    df = pd.concat([df, df2], axis=1)\n",
    "    \n",
    "    return status, df"
   ]
  },
  {
   "cell_type": "code",
   "execution_count": 260,
   "id": "0040378b",
   "metadata": {},
   "outputs": [
    {
     "data": {
      "text/plain": [
       "(200,\n",
       "     speed  deg  gust                 Time\n",
       " 0    0.36  185  0.64  2021-11-17 15:00:00\n",
       " 1    1.30  195  0.85  2021-11-17 18:00:00\n",
       " 2    2.50  230  1.57  2021-11-17 21:00:00\n",
       " 3    3.03  242  2.40  2021-11-18 00:00:00\n",
       " 4    1.63  244  1.83  2021-11-18 03:00:00\n",
       " 5    0.62  223  1.13  2021-11-18 06:00:00\n",
       " 6    1.65  256  2.21  2021-11-18 09:00:00\n",
       " 7    0.17  170  0.80  2021-11-18 12:00:00\n",
       " 8    0.60  233  1.03  2021-11-18 15:00:00\n",
       " 9    1.59  214  1.05  2021-11-18 18:00:00\n",
       " 10   2.31  228  1.48  2021-11-18 21:00:00\n",
       " 11   2.56  241  2.11  2021-11-19 00:00:00\n",
       " 12   1.19  223  1.61  2021-11-19 03:00:00\n",
       " 13   0.93  232  1.24  2021-11-19 06:00:00\n",
       " 14   0.38  241  0.77  2021-11-19 09:00:00\n",
       " 15   0.52  219  0.81  2021-11-19 12:00:00\n",
       " 16   0.35  229  0.79  2021-11-19 15:00:00\n",
       " 17   1.07  179  0.90  2021-11-19 18:00:00\n",
       " 18   1.65  234  1.05  2021-11-19 21:00:00\n",
       " 19   2.23  239  1.98  2021-11-20 00:00:00\n",
       " 20   0.96  229  1.35  2021-11-20 03:00:00\n",
       " 21   0.65  170  0.95  2021-11-20 06:00:00\n",
       " 22   0.64  110  0.72  2021-11-20 09:00:00\n",
       " 23   0.36  109  0.52  2021-11-20 12:00:00\n",
       " 24   0.17   74  0.40  2021-11-20 15:00:00\n",
       " 25   1.23  214  0.96  2021-11-20 18:00:00\n",
       " 26   2.15  223  1.24  2021-11-20 21:00:00\n",
       " 27   2.34  229  1.28  2021-11-21 00:00:00\n",
       " 28   1.35  265  2.22  2021-11-21 03:00:00\n",
       " 29   0.78   11  0.90  2021-11-21 06:00:00\n",
       " 30   1.07    1  1.33  2021-11-21 09:00:00\n",
       " 31   2.09   14  2.16  2021-11-21 12:00:00\n",
       " 32   2.45   19  2.50  2021-11-21 15:00:00\n",
       " 33   1.17   23  2.10  2021-11-21 18:00:00\n",
       " 34   0.67  146  1.86  2021-11-21 21:00:00\n",
       " 35   0.88  298  1.80  2021-11-22 00:00:00\n",
       " 36   3.01   19  3.43  2021-11-22 03:00:00\n",
       " 37   2.77   12  3.19  2021-11-22 06:00:00\n",
       " 38   2.67   18  2.75  2021-11-22 09:00:00\n",
       " 39   2.54    4  2.74  2021-11-22 12:00:00)"
      ]
     },
     "execution_count": 260,
     "metadata": {},
     "output_type": "execute_result"
    }
   ],
   "source": [
    "API_Client(wea_api_key, city = 'Tokyo')"
   ]
  },
  {
   "cell_type": "code",
   "execution_count": null,
   "id": "b47e0675",
   "metadata": {},
   "outputs": [],
   "source": []
  }
 ],
 "metadata": {
  "kernelspec": {
   "display_name": "Python 3",
   "language": "python",
   "name": "python3"
  },
  "language_info": {
   "codemirror_mode": {
    "name": "ipython",
    "version": 3
   },
   "file_extension": ".py",
   "mimetype": "text/x-python",
   "name": "python",
   "nbconvert_exporter": "python",
   "pygments_lexer": "ipython3",
   "version": "3.8.8"
  }
 },
 "nbformat": 4,
 "nbformat_minor": 5
}
